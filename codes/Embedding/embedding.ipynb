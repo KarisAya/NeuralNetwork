{
 "cells": [
  {
   "cell_type": "code",
   "execution_count": 1,
   "id": "c4539773-86bd-405c-8fd0-139c3ce74acf",
   "metadata": {},
   "outputs": [
    {
     "name": "stdout",
     "output_type": "stream",
     "text": [
      "This is a test sentence.\n"
     ]
    }
   ],
   "source": [
    "from sklearn.datasets import fetch_20newsgroups\n",
    "\n",
    "train_data = fetch_20newsgroups(subset=\"train\")[\"data\"]\n",
    "\n",
    "from tokenizers import Tokenizer, models, trainers, pre_tokenizers, decoders\n",
    "\n",
    "\n",
    "tokenizer = Tokenizer(models.WordPiece(unk_token=\"[UNK]\"))\n",
    "tokenizer.pre_tokenizer = pre_tokenizers.Whitespace()\n",
    "tokenizer.decoder = decoders.WordPiece()\n",
    "trainer = trainers.WordPieceTrainer(\n",
    "    vocab_size=10000,  # 词汇表大小\n",
    "    min_frequency=2,  # 最小出现频率\n",
    "    special_tokens=[\"[UNK]\", \"[PAD]\", \"[BOS]\", \"[EOS]\"],  # 特殊token\n",
    "    continuing_subword_prefix=\"##\",  # 子词前缀\n",
    ")\n",
    "\n",
    "tokenizer.train_from_iterator(train_data, trainer=trainer)\n",
    "output = tokenizer.encode(\"This is a test sentence.\")\n",
    "print(tokenizer.decode(output.ids))"
   ]
  },
  {
   "cell_type": "code",
   "execution_count": 2,
   "id": "f346eccd-1f0e-43b6-93ec-17428142abe6",
   "metadata": {},
   "outputs": [],
   "source": [
    "from tqdm import tqdm\n",
    "import torch\n",
    "from torch.utils.data import DataLoader, TensorDataset\n",
    "\n",
    "DEVICE = torch.device(\"cuda\" if torch.cuda.is_available() else \"cpu\")"
   ]
  },
  {
   "cell_type": "code",
   "execution_count": 8,
   "id": "5430ec1a-64be-4103-a17f-085409e88971",
   "metadata": {},
   "outputs": [
    {
     "name": "stderr",
     "output_type": "stream",
     "text": [
      "Tokenizing corpus: 100%|█████████████████████████████████████████████████████████████████████████████████████████████████████████████████| 11314/11314 [00:04<00:00, 2581.42it/s]\n",
      "Scaning context: 100%|████████████████████████████████████████████████████████████████████████████████████████████████████████████████████| 11314/11314 [00:12<00:00, 902.22it/s]\n"
     ]
    }
   ],
   "source": [
    "def skip_gram_dataset(train_data: list[str], tokenizer: Tokenizer, window_size: int = 12):\n",
    "\n",
    "    context_dict: dict[int, set[int]] = {}\n",
    "    corpus: list[list[int]] = [tokenizer.encode(text).ids for text in tqdm(train_data, desc=\"Tokenizing corpus\")]\n",
    "    for tokens in tqdm(corpus, desc=\"Scaning context\"):\n",
    "        length = len(tokens)\n",
    "        if length < window_size:\n",
    "            continue\n",
    "        for i, token in enumerate(tokens):\n",
    "            start = max(0, i - window_size)\n",
    "            end = min(length, i + window_size + 1)\n",
    "            context = tokens[start:i] + tokens[i + 1 : end]\n",
    "            if token in context_dict:\n",
    "                context_dict[token].update(context)\n",
    "            else:\n",
    "                context_dict[token] = set(context)\n",
    "    center_list = []\n",
    "    context_list = []\n",
    "    for center_token, context_tokens in context_dict.items():\n",
    "        for context_token in context_tokens:\n",
    "            center_list.append(center_token)\n",
    "            context_list.append(context_token)\n",
    "\n",
    "    return TensorDataset(\n",
    "        torch.tensor(center_list, dtype=torch.long, device=DEVICE),\n",
    "        torch.tensor(context_list, dtype=torch.long, device=DEVICE),\n",
    "    )\n",
    "\n",
    "\n",
    "# 创建数据集\n",
    "dataset = skip_gram_dataset(train_data, tokenizer)\n",
    "dataloader = DataLoader(dataset, batch_size=1024, shuffle=True)"
   ]
  },
  {
   "cell_type": "code",
   "execution_count": 9,
   "id": "853bdba1-a9ec-4c3d-b17c-1873879f413e",
   "metadata": {},
   "outputs": [],
   "source": [
    "class SkipGramModel(torch.nn.Module):\n",
    "    def __init__(self, vocab_size, embedding_dim):\n",
    "        super(SkipGramModel, self).__init__()\n",
    "        self.embedding = torch.nn.Embedding(vocab_size, embedding_dim)\n",
    "        self.linear = torch.nn.Linear(embedding_dim, vocab_size)\n",
    "\n",
    "    def forward(self, x):\n",
    "        x = self.embedding(x)\n",
    "        x = self.linear(x)\n",
    "        return x"
   ]
  },
  {
   "cell_type": "code",
   "execution_count": 10,
   "id": "1a60a1f2-ad1d-4e25-8b6d-ed2a5ea10da2",
   "metadata": {},
   "outputs": [
    {
     "name": "stderr",
     "output_type": "stream",
     "text": [
      "Epoch 1: 100%|████████████████████████████████████████████████████████████████████████████████████████████████████████████████████████████| 14999/14999 [02:21<00:00, 105.86it/s]\n"
     ]
    },
    {
     "name": "stdout",
     "output_type": "stream",
     "text": [
      "Epoch 1, Loss: 8.9488\n"
     ]
    },
    {
     "name": "stderr",
     "output_type": "stream",
     "text": [
      "Epoch 2: 100%|████████████████████████████████████████████████████████████████████████████████████████████████████████████████████████████| 14999/14999 [02:22<00:00, 105.55it/s]\n"
     ]
    },
    {
     "name": "stdout",
     "output_type": "stream",
     "text": [
      "Epoch 2, Loss: 8.8091\n"
     ]
    },
    {
     "name": "stderr",
     "output_type": "stream",
     "text": [
      "Epoch 3: 100%|████████████████████████████████████████████████████████████████████████████████████████████████████████████████████████████| 14999/14999 [02:23<00:00, 104.58it/s]\n"
     ]
    },
    {
     "name": "stdout",
     "output_type": "stream",
     "text": [
      "Epoch 3, Loss: 8.7644\n"
     ]
    },
    {
     "name": "stderr",
     "output_type": "stream",
     "text": [
      "Epoch 4: 100%|████████████████████████████████████████████████████████████████████████████████████████████████████████████████████████████| 14999/14999 [02:20<00:00, 106.73it/s]\n"
     ]
    },
    {
     "name": "stdout",
     "output_type": "stream",
     "text": [
      "Epoch 4, Loss: 8.7309\n"
     ]
    },
    {
     "name": "stderr",
     "output_type": "stream",
     "text": [
      "Epoch 5: 100%|████████████████████████████████████████████████████████████████████████████████████████████████████████████████████████████| 14999/14999 [02:22<00:00, 105.36it/s]\n"
     ]
    },
    {
     "name": "stdout",
     "output_type": "stream",
     "text": [
      "Epoch 5, Loss: 8.7031\n"
     ]
    },
    {
     "name": "stderr",
     "output_type": "stream",
     "text": [
      "Epoch 6: 100%|████████████████████████████████████████████████████████████████████████████████████████████████████████████████████████████| 14999/14999 [02:22<00:00, 105.49it/s]\n"
     ]
    },
    {
     "name": "stdout",
     "output_type": "stream",
     "text": [
      "Epoch 6, Loss: 8.6799\n"
     ]
    },
    {
     "name": "stderr",
     "output_type": "stream",
     "text": [
      "Epoch 7: 100%|████████████████████████████████████████████████████████████████████████████████████████████████████████████████████████████| 14999/14999 [02:22<00:00, 105.00it/s]\n"
     ]
    },
    {
     "name": "stdout",
     "output_type": "stream",
     "text": [
      "Epoch 7, Loss: 8.6608\n"
     ]
    },
    {
     "name": "stderr",
     "output_type": "stream",
     "text": [
      "Epoch 8: 100%|████████████████████████████████████████████████████████████████████████████████████████████████████████████████████████████| 14999/14999 [02:20<00:00, 106.83it/s]\n"
     ]
    },
    {
     "name": "stdout",
     "output_type": "stream",
     "text": [
      "Epoch 8, Loss: 8.6456\n"
     ]
    },
    {
     "name": "stderr",
     "output_type": "stream",
     "text": [
      "Epoch 9: 100%|█████████████████████████████████████████████████████████████████████████████████████████████████████████████████████████████| 14999/14999 [02:37<00:00, 95.32it/s]\n"
     ]
    },
    {
     "name": "stdout",
     "output_type": "stream",
     "text": [
      "Epoch 9, Loss: 8.6333\n"
     ]
    },
    {
     "name": "stderr",
     "output_type": "stream",
     "text": [
      "Epoch 10: 100%|████████████████████████████████████████████████████████████████████████████████████████████████████████████████████████████| 14999/14999 [03:00<00:00, 83.12it/s]"
     ]
    },
    {
     "name": "stdout",
     "output_type": "stream",
     "text": [
      "Epoch 10, Loss: 8.6237\n"
     ]
    },
    {
     "name": "stderr",
     "output_type": "stream",
     "text": [
      "\n"
     ]
    }
   ],
   "source": [
    "num_epochs = 10\n",
    "\n",
    "vocab = tokenizer.get_vocab()\n",
    "\n",
    "model = SkipGramModel(len(vocab), 200).to(DEVICE) if True else torch.load(\"SkipGram.pth\", weights_only=False)\n",
    "\n",
    "optimizer = torch.optim.Adam(model.parameters())\n",
    "lossi = []\n",
    "for epoch in range(num_epochs):\n",
    "    total_loss = 0\n",
    "    for center_token, context_token in tqdm(dataloader, desc=f\"Epoch {epoch+1}\"):\n",
    "        logits = model(center_token)\n",
    "        loss = torch.nn.functional.cross_entropy(logits, context_token)\n",
    "        optimizer.zero_grad()\n",
    "        loss.backward()\n",
    "        optimizer.step()\n",
    "        loss = loss.item()\n",
    "        total_loss += loss\n",
    "        lossi.append(loss)\n",
    "    print(f\"Epoch {epoch+1}, Loss: {total_loss/len(dataloader):.4f}\")"
   ]
  },
  {
   "cell_type": "code",
   "execution_count": 6,
   "id": "1816e663-6efe-4bc3-8081-51cec0e380d2",
   "metadata": {},
   "outputs": [
    {
     "data": {
      "image/png": "[encoded data removed]",
      "text/plain": [
       "<Figure size 640x480 with 1 Axes>"
      ]
     },
     "metadata": {},
     "output_type": "display_data"
    }
   ],
   "source": [
    "import matplotlib.pyplot as plt\n",
    "\n",
    "plt.plot(lossi)\n",
    "plt.show()"
   ]
  },
  {
   "cell_type": "code",
   "execution_count": 11,
   "id": "62e89030-62f0-42e9-a3db-38dbb23797ad",
   "metadata": {},
   "outputs": [],
   "source": [
    "import numpy as np\n",
    "\n",
    "word_vectors = model.embedding.weight.data.cpu().numpy()\n",
    "\n",
    "\n",
    "def find_similar_words(query_word: str | list[str], word_vectors, vocab, top_k=5):\n",
    "    if query_word not in vocab:\n",
    "        print(f\"'{query_word}' not in vocabulary\")\n",
    "        return\n",
    "\n",
    "    # 获取查询词的向量\n",
    "    query_idx = vocab[query_word]\n",
    "    query_vec = word_vectors[query_idx]\n",
    "\n",
    "    # 计算余弦相似度\n",
    "    norms = np.linalg.norm(word_vectors, axis=1)\n",
    "    dot_products = np.dot(word_vectors, query_vec)\n",
    "    cosine_similarities = dot_products / (norms * np.linalg.norm(query_vec))\n",
    "\n",
    "    # 获取最相似的词（排除自己）\n",
    "    similar_indices = np.argsort(-cosine_similarities)[1 : top_k + 1]\n",
    "\n",
    "    # 打印结果\n",
    "    print(f\"和 {query_word} 最相关的词:\")\n",
    "    for idx in similar_indices:\n",
    "        word = list(vocab.keys())[list(vocab.values()).index(idx)]\n",
    "        print(f\"{word}: {cosine_similarities[idx]:.3f}\")"
   ]
  },
  {
   "cell_type": "code",
   "execution_count": 13,
   "id": "78ddb7b6-ad14-43d5-a870-abd71b347b6c",
   "metadata": {},
   "outputs": [
    {
     "name": "stdout",
     "output_type": "stream",
     "text": [
      "和 Jesus 最相关的词:\n",
      "God: 0.682\n",
      "Christ: 0.669\n",
      "Christians: 0.665\n",
      "Bible: 0.633\n",
      "faith: 0.625\n",
      "Christian: 0.580\n",
      "Scripture: 0.575\n",
      "Lord: 0.560\n",
      "Him: 0.544\n",
      "church: 0.541\n"
     ]
    }
   ],
   "source": [
    "find_similar_words(\"Jesus\", word_vectors, vocab, 10)"
   ]
  },
  {
   "cell_type": "code",
   "execution_count": 26,
   "id": "10f2638e-401c-4beb-8a20-8c514a94a99d",
   "metadata": {},
   "outputs": [
    {
     "name": "stdout",
     "output_type": "stream",
     "text": [
      "和 arms 最相关的词:\n",
      "bear: 0.527\n",
      "armed: 0.464\n",
      "militia: 0.457\n",
      "arm: 0.447\n",
      "military: 0.447\n",
      "Milit: 0.419\n",
      "killed: 0.414\n",
      "soldiers: 0.414\n",
      "weapon: 0.406\n",
      "villages: 0.404\n"
     ]
    }
   ],
   "source": [
    "find_similar_words(\"arms\", word_vectors, vocab, 10)"
   ]
  },
  {
   "cell_type": "code",
   "execution_count": null,
   "id": "5bac2322-88ef-4627-824a-58db05211659",
   "metadata": {},
   "outputs": [],
   "source": []
  }
 ],
 "metadata": {
  "kernelspec": {
   "display_name": "Python 3 (ipykernel)",
   "language": "python",
   "name": "python3"
  },
  "language_info": {
   "codemirror_mode": {
    "name": "ipython",
    "version": 3
   },
   "file_extension": ".py",
   "mimetype": "text/x-python",
   "name": "python",
   "nbconvert_exporter": "python",
   "pygments_lexer": "ipython3",
   "version": "3.13.1"
  }
 },
 "nbformat": 4,
 "nbformat_minor": 5
}
