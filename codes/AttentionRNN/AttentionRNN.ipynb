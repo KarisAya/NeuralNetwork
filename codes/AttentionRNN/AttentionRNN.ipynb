{
 "cells": [
  {
   "cell_type": "code",
   "execution_count": 1,
   "id": "8f7551ae-5870-4605-b264-a6782905bd8a",
   "metadata": {},
   "outputs": [],
   "source": [
    "from tqdm import tqdm\n",
    "import torch\n",
    "\n",
    "DEVICE = torch.device(\"cuda\" if torch.cuda.is_available() else \"cpu\")"
   ]
  },
  {
   "cell_type": "code",
   "execution_count": 2,
   "id": "52314d90-59e2-4757-b31e-4fc8937a2be6",
   "metadata": {},
   "outputs": [
    {
     "name": "stderr",
     "output_type": "stream",
     "text": [
      "Using the latest cached version of the dataset since sentence-transformers/parallel-sentences-wikimatrix couldn't be found on the Hugging Face Hub\n",
      "Found the latest cached dataset configuration 'en-zh' at C:\\Users\\karis\\.cache\\huggingface\\datasets\\sentence-transformers___parallel-sentences-wikimatrix\\en-zh\\0.0.0\\74a4cb15422cdd0c3aacc93593b6cb96a9b9b3a9 (last modified on Sun Mar 30 22:09:32 2025).\n"
     ]
    }
   ],
   "source": [
    "from datasets import load_dataset, DatasetDict, Dataset\n",
    "from tokenizers import Tokenizer, models, trainers\n",
    "\n",
    "dataset = load_dataset(\"sentence-transformers/parallel-sentences-wikimatrix\", \"en-zh\")\n",
    "\n",
    "assert isinstance(dataset, DatasetDict)"
   ]
  },
  {
   "cell_type": "code",
   "execution_count": 3,
   "id": "9fbda2d7-19cd-4858-9ecb-26c06daadade",
   "metadata": {},
   "outputs": [
    {
     "name": "stderr",
     "output_type": "stream",
     "text": [
      "pre-processing: 100%|█████████████████████████████████████████████████████████████████████████████████████████████████████████████████| 113408/113408 [00:03<00:00, 31126.42it/s]\n"
     ]
    },
    {
     "name": "stdout",
     "output_type": "stream",
     "text": [
      "训练文本长度: 89457\n"
     ]
    }
   ],
   "source": [
    "def dataset_processing(dataset: Dataset, en_vocab_size: int, zh_vocab_size: int, min_frequency: int = 10):\n",
    "    def chinese_rule(code: int):\n",
    "        return code < 128 or 0x4E00 <= code <= 0x9FFF or 0x3000 <= code <= 0x303F or 0xFF01 <= code <= 0xFF5E\n",
    "\n",
    "    def english_rule(code: int):\n",
    "        return code < 128 or 0x3000 <= code <= 0x303F or 0xFF01 <= code <= 0xFF5E\n",
    "\n",
    "    en_list = []\n",
    "    zh_list = []\n",
    "    for data in tqdm(dataset, desc=\"pre-processing\"):\n",
    "        en = data[\"english\"]\n",
    "        zh = data[\"non_english\"]\n",
    "        if all([english_rule(ord(c)) for c in en]) and all([chinese_rule(ord(c)) for c in zh]):\n",
    "            en_list.append(en)\n",
    "            zh_list.append(zh)\n",
    "\n",
    "    print(f\"训练文本长度: {len(en_list)}\")\n",
    "\n",
    "    special_tokens = [\"[PAD]\", \"[UNK]\", \"[BOS]\", \"[EOS]\"]\n",
    "    continuing_subword_prefix = \"##\"\n",
    "    # 英文分词器\n",
    "    en_tokenizer = Tokenizer(models.WordPiece(unk_token=\"[UNK]\"))\n",
    "    en_trainer = trainers.WordPieceTrainer(\n",
    "        vocab_size=en_vocab_size,\n",
    "        min_frequency=min_frequency,\n",
    "        special_tokens=special_tokens + [\".\", \",\", \"!\", \"?\", \";\", \":\"],\n",
    "        continuing_subword_prefix=continuing_subword_prefix,\n",
    "    )\n",
    "    en_tokenizer.train_from_iterator(en_list, trainer=en_trainer)\n",
    "    # 中文分词器\n",
    "    zh_tokenizer = Tokenizer(models.WordPiece(unk_token=\"[UNK]\"))\n",
    "    zh_trainer = trainers.WordPieceTrainer(\n",
    "        vocab_size=zh_vocab_size,\n",
    "        min_frequency=min_frequency,\n",
    "        special_tokens=special_tokens + [\".\", \",\", \"!\", \"?\", \";\", \":\"] + [chr(i) for i in range(0x3000, 0x303F)],\n",
    "        continuing_subword_prefix=continuing_subword_prefix,\n",
    "    )\n",
    "    zh_tokenizer.train_from_iterator(zh_list, trainer=zh_trainer)\n",
    "    # 处理文本编码\n",
    "\n",
    "    en_vocab = en_tokenizer.get_vocab()\n",
    "    zh_vocab = zh_tokenizer.get_vocab()\n",
    "    assert en_vocab[\"[PAD]\"] == zh_vocab[\"[PAD]\"] == 0\n",
    "    assert en_vocab[\"[UNK]\"] == zh_vocab[\"[UNK]\"] == 1\n",
    "    assert en_vocab[\"[BOS]\"] == zh_vocab[\"[BOS]\"] == 2\n",
    "    assert en_vocab[\"[EOS]\"] == zh_vocab[\"[EOS]\"] == 3\n",
    "\n",
    "    en_dataset = [[2] + en_tokenizer.encode(en).ids + [3] for en in en_list]\n",
    "    zh_dataset = [[2] + zh_tokenizer.encode(zh).ids + [3] for zh in zh_list]\n",
    "    return en_tokenizer, zh_tokenizer, en_dataset, zh_dataset\n",
    "\n",
    "\n",
    "en_tokenizer, zh_tokenizer, en_dataset, zh_dataset = dataset_processing(dataset[\"train\"], 10000, 20000)"
   ]
  },
  {
   "cell_type": "code",
   "execution_count": 4,
   "id": "fe307b99-4380-4d4e-b100-2d95969f56d4",
   "metadata": {},
   "outputs": [
    {
     "name": "stdout",
     "output_type": "stream",
     "text": [
      "10000\n",
      "20000\n",
      "This  ##un ##preced ##ented  ##development  ##became  ##attribut ##ed to the  ##Mor ##gan ##  ##banking  ##sty ##le\n",
      "这种 ##前 ##所 ##未 ##有的 ##发展 ##被 ##归 ##结 ##于 ##摩 ##根 ##的 ##银行 ##风格\n"
     ]
    }
   ],
   "source": [
    "print(en_tokenizer.get_vocab_size())\n",
    "print(zh_tokenizer.get_vocab_size())\n",
    "print(en_tokenizer.decode(en_dataset[0]))\n",
    "print(zh_tokenizer.decode(zh_dataset[0]))"
   ]
  },
  {
   "cell_type": "code",
   "execution_count": 5,
   "id": "f1774b7c-3fcf-4e5a-8e5a-a143c39fa26d",
   "metadata": {},
   "outputs": [],
   "source": [
    "from torch.nn.utils.rnn import pad_sequence\n",
    "\n",
    "\n",
    "def batch_processing(dataset: list[list[int]], batch_size: int, device=DEVICE):\n",
    "    return [\n",
    "        pad_sequence([torch.tensor(x, dtype=torch.long, device=device) for x in dataset[i : i + batch_size]], batch_first=True)\n",
    "        for i in range(0, len(dataset), batch_size)\n",
    "    ]\n",
    "\n",
    "\n",
    "en_dataset = batch_processing(en_dataset, 32)\n",
    "zh_dataset = batch_processing(zh_dataset, 32)\n",
    "train_dataset = list(zip(en_dataset, zh_dataset))"
   ]
  },
  {
   "cell_type": "code",
   "execution_count": 6,
   "id": "1d3f57d0-6d31-4f82-ab5d-f54002455770",
   "metadata": {},
   "outputs": [
    {
     "name": "stdout",
     "output_type": "stream",
     "text": [
      "This  ##un ##preced ##ented  ##development  ##became  ##attribut ##ed to the  ##Mor ##gan ##  ##banking  ##sty ##le\n",
      "这种 ##前 ##所 ##未 ##有的 ##发展 ##被 ##归 ##结 ##于 ##摩 ##根 ##的 ##银行 ##风格\n"
     ]
    }
   ],
   "source": [
    "print(en_tokenizer.decode(en_dataset[0][0].tolist()))\n",
    "print(zh_tokenizer.decode(zh_dataset[0][0].tolist()))"
   ]
  },
  {
   "cell_type": "code",
   "execution_count": 7,
   "id": "3651cf8a-1007-428b-b51e-65f13e1891eb",
   "metadata": {},
   "outputs": [],
   "source": [
    "class EN_to_ZH(torch.nn.Module):\n",
    "    def __init__(\n",
    "        self,\n",
    "        en_tokenizer: Tokenizer,\n",
    "        zh_tokenizer: Tokenizer,\n",
    "        emb_size: int,\n",
    "        hidden_size: int,\n",
    "        num_layers: int,\n",
    "        dropout: float = 0,\n",
    "        teacher_forcing_ratio: float = 0.5,\n",
    "    ):\n",
    "        super().__init__()\n",
    "        self.en_tokenizer = en_tokenizer\n",
    "        self.zh_tokenizer = zh_tokenizer\n",
    "        input_vs = en_tokenizer.get_vocab_size()\n",
    "        output_vs = zh_tokenizer.get_vocab_size()\n",
    "        self.bos_ind = zh_tokenizer.token_to_id(\"[BOS]\")\n",
    "        self.eos_ind = zh_tokenizer.token_to_id(\"[EOS]\")\n",
    "        self.encoder_emb = torch.nn.Embedding(input_vs, emb_size)\n",
    "        self.encoder_lstm = torch.nn.LSTM(emb_size, hidden_size, num_layers, dropout=dropout, batch_first=True)\n",
    "        self.decoder_emb = torch.nn.Embedding(output_vs, hidden_size)\n",
    "        self.decoder_lstm = torch.nn.LSTM(hidden_size, hidden_size, num_layers, dropout=dropout, batch_first=True)\n",
    "        self.lm = torch.nn.Linear(hidden_size, output_vs)\n",
    "        self.num_layers = num_layers\n",
    "        self.teacher_forcing_ratio = torch.tensor(teacher_forcing_ratio)\n",
    "\n",
    "    def forward(self, source: torch.Tensor, target: torch.Tensor):\n",
    "        embed_source: torch.Tensor = self.encoder_emb(source)\n",
    "        encoder_hiddens = []\n",
    "        state = None\n",
    "        for x in embed_source.unbind(1):\n",
    "            _, (hidden, cell) = self.encoder_lstm(x.unsqueeze(1), state)\n",
    "            state = (hidden, cell)\n",
    "            encoder_hiddens.append(hidden)\n",
    "        encoded = torch.stack(encoder_hiddens, dim=-2)\n",
    "        encoded_trans = torch.transpose(encoded, -2, -1)\n",
    "        sqrtT: float = encoded_trans.size(-1) ** 0.5\n",
    "        embed_target: torch.Tensor = self.decoder_emb(target)\n",
    "        x = embed_target[:, 0].unsqueeze(1)\n",
    "        outputs = []\n",
    "        for target_t in embed_target.unbind(1):\n",
    "            scores = x.unsqueeze(0) @ encoded_trans\n",
    "            scores = torch.softmax(scores / sqrtT, dim=-1)\n",
    "            hidden = scores @ encoded\n",
    "            output, (hidden, cell) = self.decoder_lstm(x, (hidden.squeeze(-2), cell))\n",
    "            output = self.lm(output)\n",
    "            outputs.append(output)\n",
    "            if torch.rand(1) < self.teacher_forcing_ratio:\n",
    "                x = target_t.unsqueeze(1)\n",
    "            else:\n",
    "                x = self.decoder_emb(torch.argmax(output, dim=-1))\n",
    "        return torch.cat(outputs, 1)\n",
    "\n",
    "    def translate(self, inputs: str, device=DEVICE, max_len_ratio=2.0):\n",
    "        source = torch.tensor(self.en_tokenizer.encode(inputs).ids, dtype=torch.long, device=device).unsqueeze(0)\n",
    "        embed_source: torch.Tensor = self.encoder_emb(source)\n",
    "        encoder_hiddens = []\n",
    "        state = None\n",
    "        for x in embed_source.unbind(1):\n",
    "            _, (hidden, cell) = self.encoder_lstm(x.unsqueeze(1), state)\n",
    "            state = (hidden, cell)\n",
    "            encoder_hiddens.append(hidden)\n",
    "        encoded = torch.stack(encoder_hiddens, dim=-2)\n",
    "        encoded_trans = torch.transpose(encoded, -2, -1)\n",
    "        sqrtT: float = encoded_trans.size(-1) ** 0.5\n",
    "        x = self.decoder_emb(torch.tensor([self.bos_ind], dtype=torch.long, device=device).unsqueeze(0))\n",
    "        outs = []\n",
    "        for _ in range(int(len(inputs) * max_len_ratio)):\n",
    "            scores = x.unsqueeze(0) @ encoded_trans\n",
    "            scores = torch.softmax(scores / sqrtT, dim=-1)\n",
    "            hidden = scores @ encoded\n",
    "            output, (hidden, cell) = self.decoder_lstm(x, (hidden.squeeze(-2), cell))\n",
    "            output = torch.argmax(self.lm(output), dim=-1)\n",
    "            if (out := output.item()) == self.eos_ind:\n",
    "                break\n",
    "            outs.append(out)\n",
    "            x = self.decoder_emb(output)\n",
    "        return self.zh_tokenizer.decode(outs, skip_special_tokens=False)"
   ]
  },
  {
   "cell_type": "code",
   "execution_count": 8,
   "id": "6e1688be-432d-4bfc-bfcb-5cf962a7a073",
   "metadata": {},
   "outputs": [
    {
     "name": "stdout",
     "output_type": "stream",
     "text": [
      "##制度。 用 用 用 瞪 ##鶴 ##是世界上 呱 ##如此 用 用 用 用 ##es。 呱 用 用 用 ##es。 呱 用 用\n"
     ]
    }
   ],
   "source": [
    "# 初始化模型\n",
    "model = EN_to_ZH(en_tokenizer, zh_tokenizer, emb_size=128, hidden_size=128, num_layers=2, dropout=0.1)\n",
    "model.to(DEVICE)\n",
    "print(model.translate(\"hello world\"))"
   ]
  },
  {
   "cell_type": "code",
   "execution_count": 9,
   "id": "93d8d65e-d957-4dfb-971f-d99fad069030",
   "metadata": {},
   "outputs": [
    {
     "name": "stderr",
     "output_type": "stream",
     "text": [
      "Epoch 1/6: 100%|█████████████████████████████████████████████████████████████████████████████████████████████████████████████████████████████| 2796/2796 [06:21<00:00,  7.33it/s]\n"
     ]
    },
    {
     "name": "stdout",
     "output_type": "stream",
     "text": [
      "Average Loss: 3.8605\n"
     ]
    },
    {
     "name": "stderr",
     "output_type": "stream",
     "text": [
      "Epoch 2/6: 100%|█████████████████████████████████████████████████████████████████████████████████████████████████████████████████████████████| 2796/2796 [06:20<00:00,  7.35it/s]\n"
     ]
    },
    {
     "name": "stdout",
     "output_type": "stream",
     "text": [
      "Average Loss: 3.6350\n"
     ]
    },
    {
     "name": "stderr",
     "output_type": "stream",
     "text": [
      "Epoch 3/6: 100%|█████████████████████████████████████████████████████████████████████████████████████████████████████████████████████████████| 2796/2796 [06:22<00:00,  7.30it/s]\n"
     ]
    },
    {
     "name": "stdout",
     "output_type": "stream",
     "text": [
      "Average Loss: 3.5012\n"
     ]
    },
    {
     "name": "stderr",
     "output_type": "stream",
     "text": [
      "Epoch 4/6: 100%|█████████████████████████████████████████████████████████████████████████████████████████████████████████████████████████████| 2796/2796 [06:22<00:00,  7.32it/s]\n"
     ]
    },
    {
     "name": "stdout",
     "output_type": "stream",
     "text": [
      "Average Loss: 3.4012\n"
     ]
    },
    {
     "name": "stderr",
     "output_type": "stream",
     "text": [
      "Epoch 5/6: 100%|█████████████████████████████████████████████████████████████████████████████████████████████████████████████████████████████| 2796/2796 [06:24<00:00,  7.28it/s]\n"
     ]
    },
    {
     "name": "stdout",
     "output_type": "stream",
     "text": [
      "Average Loss: 3.3125\n"
     ]
    },
    {
     "name": "stderr",
     "output_type": "stream",
     "text": [
      "Epoch 6/6: 100%|█████████████████████████████████████████████████████████████████████████████████████████████████████████████████████████████| 2796/2796 [06:25<00:00,  7.26it/s]"
     ]
    },
    {
     "name": "stdout",
     "output_type": "stream",
     "text": [
      "Average Loss: 3.2407\n"
     ]
    },
    {
     "name": "stderr",
     "output_type": "stream",
     "text": [
      "\n"
     ]
    }
   ],
   "source": [
    "import random\n",
    "\n",
    "optimizer = torch.optim.Adam(model.parameters(), lr=0.001)\n",
    "\n",
    "# 训练循环\n",
    "num_epochs = 6\n",
    "lossi = []\n",
    "for epoch in range(num_epochs):\n",
    "    model.train()\n",
    "    total_loss = 0\n",
    "    random.shuffle(train_dataset)\n",
    "    for en_batch, zh_batch in tqdm(train_dataset, desc=f\"Epoch {epoch+1}/{num_epochs}\"):\n",
    "        # 前向传播\n",
    "        outputs = model.forward(en_batch, zh_batch)\n",
    "        # 计算损失\n",
    "        loss = torch.nn.functional.cross_entropy(outputs.transpose(-2, -1), zh_batch)\n",
    "        # 反向传播和优化\n",
    "        optimizer.zero_grad()\n",
    "        loss.backward()\n",
    "        optimizer.step()\n",
    "        lossi.append(loss.item())\n",
    "        total_loss += lossi[-1]\n",
    "    print(f\"Average Loss: {total_loss/len(train_dataset):.4f}\")"
   ]
  },
  {
   "cell_type": "code",
   "execution_count": 20,
   "id": "f38ce3d9-28cc-4754-adb4-c794d6e9bc3b",
   "metadata": {},
   "outputs": [
    {
     "name": "stdout",
     "output_type": "stream",
     "text": [
      "如果 ##在 ##的 ##的 ##的 ##的 ##的 ##的 ##的 ##的 ##的 。\n"
     ]
    }
   ],
   "source": [
    "print(model.translate(\"This unpreced ented development became attributed to th Morgan banking style\"))\n",
    "# 效果并不好（"
   ]
  },
  {
   "cell_type": "code",
   "execution_count": 22,
   "id": "e3e105ff-2df1-4d34-95a8-b8e02d717677",
   "metadata": {},
   "outputs": [
    {
     "data": {
      "image/png": "[encoded data removed]",
      "text/plain": [
       "<Figure size 640x480 with 1 Axes>"
      ]
     },
     "metadata": {},
     "output_type": "display_data"
    }
   ],
   "source": [
    "import matplotlib.pyplot as plt\n",
    "\n",
    "plt.plot(torch.tensor(lossi[: len(lossi) // 50 * 50]).view(-1, 50).mean(dim=-1))\n",
    "plt.show()"
   ]
  },
  {
   "cell_type": "code",
   "execution_count": null,
   "id": "40a45298-7a39-43c1-90ad-945ec0a17af1",
   "metadata": {},
   "outputs": [],
   "source": []
  }
 ],
 "metadata": {
  "kernelspec": {
   "display_name": "Python 3 (ipykernel)",
   "language": "python",
   "name": "python3"
  },
  "language_info": {
   "codemirror_mode": {
    "name": "ipython",
    "version": 3
   },
   "file_extension": ".py",
   "mimetype": "text/x-python",
   "name": "python",
   "nbconvert_exporter": "python",
   "pygments_lexer": "ipython3",
   "version": "3.13.2"
  }
 },
 "nbformat": 4,
 "nbformat_minor": 5
}
