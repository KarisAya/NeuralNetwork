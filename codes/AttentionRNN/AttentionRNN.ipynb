{
 "cells": [
  {
   "cell_type": "code",
   "execution_count": 1,
   "id": "8f7551ae-5870-4605-b264-a6782905bd8a",
   "metadata": {},
   "outputs": [],
   "source": [
    "from tqdm import tqdm\n",
    "import torch\n",
    "\n",
    "DEVICE = torch.device(\"cuda\" if torch.cuda.is_available() else \"cpu\")"
   ]
  },
  {
   "cell_type": "code",
   "execution_count": 2,
   "id": "52314d90-59e2-4757-b31e-4fc8937a2be6",
   "metadata": {},
   "outputs": [
    {
     "name": "stderr",
     "output_type": "stream",
     "text": [
      "Using the latest cached version of the dataset since sentence-transformers/parallel-sentences-wikimatrix couldn't be found on the Hugging Face Hub\n",
      "Found the latest cached dataset configuration 'en-zh' at C:\\Users\\karis\\.cache\\huggingface\\datasets\\sentence-transformers___parallel-sentences-wikimatrix\\en-zh\\0.0.0\\74a4cb15422cdd0c3aacc93593b6cb96a9b9b3a9 (last modified on Sun Mar 30 22:09:32 2025).\n"
     ]
    }
   ],
   "source": [
    "from datasets import load_dataset, DatasetDict, Dataset\n",
    "from tokenizers import Tokenizer, models, trainers\n",
    "\n",
    "dataset = load_dataset(\"sentence-transformers/parallel-sentences-wikimatrix\", \"en-zh\")\n",
    "\n",
    "assert isinstance(dataset, DatasetDict)"
   ]
  },
  {
   "cell_type": "code",
   "execution_count": 3,
   "id": "9fbda2d7-19cd-4858-9ecb-26c06daadade",
   "metadata": {},
   "outputs": [
    {
     "name": "stderr",
     "output_type": "stream",
     "text": [
      "pre-processing: 100%|███████████████████████████████████████████████████████████████████████████████████████████████████████████| 113408/113408 [00:03<00:00, 30741.31it/s]\n"
     ]
    },
    {
     "name": "stdout",
     "output_type": "stream",
     "text": [
      "训练文本长度: 89457\n"
     ]
    }
   ],
   "source": [
    "def dataset_processing(dataset: Dataset, en_vocab_size: int, zh_vocab_size: int, min_frequency: int = 10):\n",
    "    def chinese_rule(code: int):\n",
    "        return code < 128 or 0x4E00 <= code <= 0x9FFF or 0x3000 <= code <= 0x303F or 0xFF01 <= code <= 0xFF5E\n",
    "\n",
    "    def english_rule(code: int):\n",
    "        return code < 128 or 0x3000 <= code <= 0x303F or 0xFF01 <= code <= 0xFF5E\n",
    "\n",
    "    en_list = []\n",
    "    zh_list = []\n",
    "    for data in tqdm(dataset, desc=\"pre-processing\"):\n",
    "        en = data[\"english\"]\n",
    "        zh = data[\"non_english\"]\n",
    "        if all([english_rule(ord(c)) for c in en]) and all([chinese_rule(ord(c)) for c in zh]):\n",
    "            en_list.append(en)\n",
    "            zh_list.append(zh)\n",
    "\n",
    "    print(f\"训练文本长度: {len(en_list)}\")\n",
    "\n",
    "    special_tokens = [\"[PAD]\", \"[UNK]\", \"[BOS]\", \"[EOS]\"]\n",
    "    continuing_subword_prefix = \"##\"\n",
    "    # 英文分词器\n",
    "    en_tokenizer = Tokenizer(models.WordPiece(unk_token=\"[UNK]\"))\n",
    "    en_trainer = trainers.WordPieceTrainer(\n",
    "        vocab_size=en_vocab_size,\n",
    "        min_frequency=min_frequency,\n",
    "        special_tokens=special_tokens + [\".\", \",\", \"!\", \"?\", \";\", \":\"],\n",
    "        continuing_subword_prefix=continuing_subword_prefix,\n",
    "    )\n",
    "    en_tokenizer.train_from_iterator(en_list, trainer=en_trainer)\n",
    "    # 中文分词器\n",
    "    zh_tokenizer = Tokenizer(models.WordPiece(unk_token=\"[UNK]\"))\n",
    "    zh_trainer = trainers.WordPieceTrainer(\n",
    "        vocab_size=zh_vocab_size,\n",
    "        min_frequency=min_frequency,\n",
    "        special_tokens=special_tokens + [\".\", \",\", \"!\", \"?\", \";\", \":\"] + [chr(i) for i in range(0x3000, 0x303F)],\n",
    "        continuing_subword_prefix=continuing_subword_prefix,\n",
    "    )\n",
    "    zh_tokenizer.train_from_iterator(zh_list, trainer=zh_trainer)\n",
    "    # 处理文本编码\n",
    "\n",
    "    en_vocab = en_tokenizer.get_vocab()\n",
    "    zh_vocab = zh_tokenizer.get_vocab()\n",
    "    assert en_vocab[\"[PAD]\"] == zh_vocab[\"[PAD]\"] == 0\n",
    "    assert en_vocab[\"[UNK]\"] == zh_vocab[\"[UNK]\"] == 1\n",
    "    assert en_vocab[\"[BOS]\"] == zh_vocab[\"[BOS]\"] == 2\n",
    "    assert en_vocab[\"[EOS]\"] == zh_vocab[\"[EOS]\"] == 3\n",
    "\n",
    "    en_dataset = [[2] + en_tokenizer.encode(en).ids + [3] for en in en_list]\n",
    "    zh_dataset = [[2] + zh_tokenizer.encode(zh).ids + [3] for zh in zh_list]\n",
    "    return en_tokenizer, zh_tokenizer, en_dataset, zh_dataset\n",
    "\n",
    "\n",
    "en_tokenizer, zh_tokenizer, en_dataset, zh_dataset = dataset_processing(dataset[\"train\"], 10000, 20000)"
   ]
  },
  {
   "cell_type": "code",
   "execution_count": 4,
   "id": "fe307b99-4380-4d4e-b100-2d95969f56d4",
   "metadata": {},
   "outputs": [
    {
     "name": "stdout",
     "output_type": "stream",
     "text": [
      "10000\n",
      "20000\n",
      "This  ##un ##preced ##ented  ##development  ##became  ##attribut ##ed to the  ##Mor ##gan ##  ##banking  ##sty ##le\n",
      "这种 ##前 ##所 ##未 ##有的 ##发展 ##被 ##归 ##结 ##于 ##摩 ##根 ##的 ##银行 ##风格\n"
     ]
    }
   ],
   "source": [
    "print(en_tokenizer.get_vocab_size())\n",
    "print(zh_tokenizer.get_vocab_size())\n",
    "print(en_tokenizer.decode(en_dataset[0]))\n",
    "print(zh_tokenizer.decode(zh_dataset[0]))"
   ]
  },
  {
   "cell_type": "code",
   "execution_count": 5,
   "id": "f1774b7c-3fcf-4e5a-8e5a-a143c39fa26d",
   "metadata": {},
   "outputs": [],
   "source": [
    "from torch.nn.utils.rnn import pad_sequence\n",
    "\n",
    "\n",
    "def batch_processing(dataset: list[list[int]], batch_size: int, device=DEVICE):\n",
    "    return [\n",
    "        pad_sequence([torch.tensor(x, dtype=torch.long, device=device) for x in dataset[i : i + batch_size]], batch_first=True)\n",
    "        for i in range(0, len(dataset), batch_size)\n",
    "    ]\n",
    "\n",
    "\n",
    "en_dataset = batch_processing(en_dataset, 32)\n",
    "zh_dataset = batch_processing(zh_dataset, 32)\n",
    "\n",
    "# en_dataset = [torch.tensor(x, dtype=torch.long, device=DEVICE).unsqueeze(0) for x in en_dataset]\n",
    "# zh_dataset = [torch.tensor(x, dtype=torch.long, device=DEVICE).unsqueeze(0) for x in zh_dataset]\n",
    "\n",
    "train_dataset = list(zip(en_dataset, zh_dataset))"
   ]
  },
  {
   "cell_type": "code",
   "execution_count": 6,
   "id": "1d3f57d0-6d31-4f82-ab5d-f54002455770",
   "metadata": {},
   "outputs": [
    {
     "name": "stdout",
     "output_type": "stream",
     "text": [
      "This  ##un ##preced ##ented  ##development  ##became  ##attribut ##ed to the  ##Mor ##gan ##  ##banking  ##sty ##le\n",
      "这种 ##前 ##所 ##未 ##有的 ##发展 ##被 ##归 ##结 ##于 ##摩 ##根 ##的 ##银行 ##风格\n"
     ]
    }
   ],
   "source": [
    "print(en_tokenizer.decode(en_dataset[0][0].tolist()))\n",
    "print(zh_tokenizer.decode(zh_dataset[0][0].tolist()))"
   ]
  },
  {
   "cell_type": "code",
   "execution_count": 7,
   "id": "0e356944-dea2-4036-a2b3-563ded48e28f",
   "metadata": {},
   "outputs": [],
   "source": [
    "class EDM(torch.nn.Module):\n",
    "    def __init__(\n",
    "        self,\n",
    "        en_tokenizer: Tokenizer,\n",
    "        zh_tokenizer: Tokenizer,\n",
    "        emb_size: int,\n",
    "        hidden_size: int,\n",
    "        num_layers: int,\n",
    "        dropout: float = 0,\n",
    "    ):\n",
    "        super().__init__()\n",
    "        self.en_tokenizer = en_tokenizer\n",
    "        self.zh_tokenizer = zh_tokenizer\n",
    "        input_vs = en_tokenizer.get_vocab_size()\n",
    "        output_vs = zh_tokenizer.get_vocab_size()\n",
    "        self.bos_ind = zh_tokenizer.token_to_id(\"[BOS]\")\n",
    "        self.pad_ind = zh_tokenizer.token_to_id(\"[PAD]\")\n",
    "        self.eos_ind = zh_tokenizer.token_to_id(\"[EOS]\")\n",
    "        # 模型主体\n",
    "        self.enc_embedding = torch.nn.Embedding(input_vs, emb_size)\n",
    "        self.enc_lstm = torch.nn.LSTM(emb_size, hidden_size, num_layers, dropout=dropout, batch_first=True)\n",
    "        self.dec_embedding = torch.nn.Embedding(output_vs, emb_size)\n",
    "        self.dec_lstm = torch.nn.LSTM(emb_size, hidden_size, num_layers, dropout=dropout, batch_first=True)\n",
    "        self.lm = torch.nn.Linear(hidden_size, output_vs)\n",
    "\n",
    "    def forward(self, source: torch.Tensor, target: torch.Tensor, teacher_forcing_ratio: float = 0.5):\n",
    "        _, state = self.enc_lstm(self.enc_embedding(source))\n",
    "        outputs = []\n",
    "        x = target[:, 0].unsqueeze(1)\n",
    "        for target_t in target.unbind(1):\n",
    "            dec_output, state = self.dec_lstm(self.dec_embedding(x), state)\n",
    "            output = self.lm(dec_output)\n",
    "            outputs.append(output)\n",
    "            if torch.rand(1).item() < teacher_forcing_ratio:\n",
    "                x = target_t.unsqueeze(-1)\n",
    "            else:\n",
    "                x = output.argmax(-1)\n",
    "        return torch.cat(outputs, 1)\n",
    "\n",
    "    def translate(self, inputs: str, device=DEVICE, max_len_ratio=2.0):\n",
    "        source = torch.tensor(self.en_tokenizer.encode(inputs).ids, dtype=torch.long, device=device)\n",
    "        _, state = self.enc_lstm(self.enc_embedding(source))\n",
    "        outs = []\n",
    "        x = torch.tensor([self.bos_ind], dtype=torch.long, device=device)\n",
    "        for _ in range(int(len(inputs) * max_len_ratio)):\n",
    "            dec_output, state = self.dec_lstm(self.dec_embedding(x), state)\n",
    "            output = self.lm(dec_output)\n",
    "            x = output.argmax(dim=-1)\n",
    "            if x == self.eos_ind or x == self.pad_ind:\n",
    "                break\n",
    "            outs.append(x)\n",
    "        return self.zh_tokenizer.decode(outs, skip_special_tokens=False)"
   ]
  },
  {
   "cell_type": "code",
   "execution_count": 8,
   "id": "6e1688be-432d-4bfc-bfcb-5cf962a7a073",
   "metadata": {},
   "outputs": [
    {
     "name": "stdout",
     "output_type": "stream",
     "text": [
      "10 郡 ##善 郡 怖 ##ing） ##50年， 錫 ##＃ ##＃ ##＃ ##＃ ##德克萨斯 ##德克萨斯 ##iss 座 瘍 ##技巧 雲 雲 雲 ##文化的\n"
     ]
    }
   ],
   "source": [
    "# 初始化模型\n",
    "model_EDM = EDM(en_tokenizer, zh_tokenizer, emb_size=128, hidden_size=128, num_layers=2, dropout=0.1)\n",
    "model_EDM.to(DEVICE)\n",
    "print(model_EDM.translate(\"hello world\"))"
   ]
  },
  {
   "cell_type": "code",
   "execution_count": 9,
   "id": "5dcbe3a7-4331-4ec6-9100-ea088e473f5d",
   "metadata": {},
   "outputs": [],
   "source": [
    "class AttentionEDM(torch.nn.Module):\n",
    "    def __init__(\n",
    "        self,\n",
    "        en_tokenizer: Tokenizer,\n",
    "        zh_tokenizer: Tokenizer,\n",
    "        emb_size: int,\n",
    "        hidden_size: int,\n",
    "        num_layers: int,\n",
    "        dropout: float = 0,\n",
    "    ):\n",
    "        super().__init__()\n",
    "        self.en_tokenizer = en_tokenizer\n",
    "        self.zh_tokenizer = zh_tokenizer\n",
    "        input_vs = en_tokenizer.get_vocab_size()\n",
    "        output_vs = zh_tokenizer.get_vocab_size()\n",
    "        self.bos_ind = zh_tokenizer.token_to_id(\"[BOS]\")\n",
    "        self.pad_ind = zh_tokenizer.token_to_id(\"[PAD]\")\n",
    "        self.eos_ind = zh_tokenizer.token_to_id(\"[EOS]\")\n",
    "        # 模型主体\n",
    "        self.enc_embedding = torch.nn.Embedding(input_vs, emb_size)\n",
    "        self.enc_lstm = torch.nn.LSTM(emb_size, hidden_size, num_layers, dropout=dropout, batch_first=True)\n",
    "        self.dec_embedding = torch.nn.Embedding(output_vs, hidden_size)\n",
    "        self.dec_lstm = torch.nn.LSTM(hidden_size, hidden_size, num_layers, dropout=dropout, batch_first=True)\n",
    "        self.lm = torch.nn.Linear(hidden_size, output_vs)\n",
    "\n",
    "    def forward(self, source: torch.Tensor, target: torch.Tensor, teacher_forcing_ratio: float = 0.5):\n",
    "        embed_source: torch.Tensor = self.enc_embedding(source)\n",
    "        encoder_hiddens = []\n",
    "        state = None\n",
    "        for x in embed_source.unbind(1):\n",
    "            _, (hidden, cell) = self.enc_lstm(x.unsqueeze(1), state)\n",
    "            state = (hidden, cell)\n",
    "            encoder_hiddens.append(hidden)\n",
    "        encoded = torch.stack(encoder_hiddens, dim=-2)\n",
    "        encoded_trans = torch.transpose(encoded, -2, -1)\n",
    "        sqrtT: float = encoded_trans.size(-1) ** 0.5\n",
    "        outputs = []\n",
    "        x = target[:, 0].unsqueeze(-1)\n",
    "        for target_t in target.unbind(1):\n",
    "            embed = self.dec_embedding(x)\n",
    "            scores = embed.unsqueeze(0) @ encoded_trans\n",
    "            scores = torch.softmax(scores / sqrtT, dim=-1)\n",
    "            hidden = scores @ encoded\n",
    "            dec_output, (hidden, cell) = self.dec_lstm(embed, (hidden.squeeze(-2), cell))\n",
    "            output = self.lm(dec_output)\n",
    "            outputs.append(output)\n",
    "            if teacher_forcing_ratio > 0 and torch.rand(1).item() < teacher_forcing_ratio:\n",
    "                x = target_t.unsqueeze(1)\n",
    "            else:\n",
    "                x = output.argmax(dim=-1)\n",
    "        return torch.cat(outputs, 1)\n",
    "\n",
    "    def translate(self, inputs: str, device=DEVICE, max_len_ratio=2.0):\n",
    "        source = torch.tensor(self.en_tokenizer.encode(inputs).ids, dtype=torch.long, device=device).unsqueeze(0)\n",
    "        embed_source: torch.Tensor = self.enc_embedding(source)\n",
    "        encoder_hiddens = []\n",
    "        state = None\n",
    "        for x in embed_source.unbind(1):\n",
    "            _, (hidden, cell) = self.enc_lstm(x.unsqueeze(1), state)\n",
    "            state = (hidden, cell)\n",
    "            encoder_hiddens.append(hidden)\n",
    "        encoded = torch.stack(encoder_hiddens, dim=-2)\n",
    "        encoded_trans = torch.transpose(encoded, -2, -1)\n",
    "        sqrtT: float = encoded_trans.size(-1) ** 0.5\n",
    "        outs = []\n",
    "        x = torch.tensor([self.bos_ind], dtype=torch.long, device=device).unsqueeze(0)\n",
    "        for _ in range(int(len(inputs) * max_len_ratio)):\n",
    "            embed = self.dec_embedding(x)\n",
    "            scores = embed.unsqueeze(0) @ encoded_trans\n",
    "            scores = torch.softmax(scores / sqrtT, dim=-1)\n",
    "            hidden = scores @ encoded\n",
    "            dec_output, (hidden, cell) = self.dec_lstm(embed, (hidden.squeeze(-2), cell))\n",
    "            output = self.lm(dec_output)\n",
    "            x = output.argmax(dim=-1)\n",
    "            xi = x[0].item()\n",
    "            if xi == self.eos_ind or xi == self.pad_ind:\n",
    "                break\n",
    "            outs.append(xi)\n",
    "        return self.zh_tokenizer.decode(outs, skip_special_tokens=False)"
   ]
  },
  {
   "cell_type": "code",
   "execution_count": 10,
   "id": "8f552f1b-e010-4d3c-b79a-4ffcf1be009c",
   "metadata": {},
   "outputs": [
    {
     "name": "stdout",
     "output_type": "stream",
     "text": [
      "统 ##e G ##e G ##阿尔 ##阿尔 ##阿尔 ##ject ##ject ##ject ##ject ##ject ##ject ##ject ##ject ##ject ##ject ##ject ##ject ##ject ##检察官 ##ject ##ject\n"
     ]
    }
   ],
   "source": [
    "# 初始化模型\n",
    "model_AttentionEDM = AttentionEDM(en_tokenizer, zh_tokenizer, emb_size=128, hidden_size=128, num_layers=2, dropout=0.1)\n",
    "model_AttentionEDM.to(DEVICE)\n",
    "print(model_AttentionEDM.translate(\"hello world\"))"
   ]
  },
  {
   "cell_type": "code",
   "execution_count": 11,
   "id": "ab00e1fe-2453-41f6-985e-c4b679bec19d",
   "metadata": {},
   "outputs": [
    {
     "name": "stdout",
     "output_type": "stream",
     "text": [
      "EDM 模型参数量  6948384\n",
      "AttentionEDM 模型参数量  6948384\n"
     ]
    }
   ],
   "source": [
    "print(\"EDM 模型参数量 \",sum(p.numel() for p in model_EDM.parameters()))\n",
    "print(\"AttentionEDM 模型参数量 \",sum(p.numel() for p in model_AttentionEDM.parameters()))"
   ]
  },
  {
   "cell_type": "code",
   "execution_count": 12,
   "id": "93d8d65e-d957-4dfb-971f-d99fad069030",
   "metadata": {},
   "outputs": [
    {
     "name": "stderr",
     "output_type": "stream",
     "text": [
      "Epoch 1/5: 100%|███████████████████████████████████████████████████████████████████████████████████████████████████████████████████████| 2796/2796 [10:57<00:00,  4.26it/s]\n"
     ]
    },
    {
     "name": "stdout",
     "output_type": "stream",
     "text": [
      "Average Loss\n",
      "EDM:3.7869\n",
      "AttentionEDM:3.7899\n"
     ]
    },
    {
     "name": "stderr",
     "output_type": "stream",
     "text": [
      "Epoch 2/5: 100%|███████████████████████████████████████████████████████████████████████████████████████████████████████████████████████| 2796/2796 [11:00<00:00,  4.24it/s]\n"
     ]
    },
    {
     "name": "stdout",
     "output_type": "stream",
     "text": [
      "Average Loss\n",
      "EDM:3.6153\n",
      "AttentionEDM:3.5904\n"
     ]
    },
    {
     "name": "stderr",
     "output_type": "stream",
     "text": [
      "Epoch 3/5: 100%|███████████████████████████████████████████████████████████████████████████████████████████████████████████████████████| 2796/2796 [10:52<00:00,  4.28it/s]\n"
     ]
    },
    {
     "name": "stdout",
     "output_type": "stream",
     "text": [
      "Average Loss\n",
      "EDM:3.6245\n",
      "AttentionEDM:3.5771\n"
     ]
    },
    {
     "name": "stderr",
     "output_type": "stream",
     "text": [
      "Epoch 4/5: 100%|███████████████████████████████████████████████████████████████████████████████████████████████████████████████████████| 2796/2796 [10:55<00:00,  4.27it/s]\n"
     ]
    },
    {
     "name": "stdout",
     "output_type": "stream",
     "text": [
      "Average Loss\n",
      "EDM:3.7031\n",
      "AttentionEDM:3.6284\n"
     ]
    },
    {
     "name": "stderr",
     "output_type": "stream",
     "text": [
      "Epoch 5/5: 100%|███████████████████████████████████████████████████████████████████████████████████████████████████████████████████████| 2796/2796 [10:55<00:00,  4.27it/s]"
     ]
    },
    {
     "name": "stdout",
     "output_type": "stream",
     "text": [
      "Average Loss\n",
      "EDM:3.7365\n",
      "AttentionEDM:3.6469\n"
     ]
    },
    {
     "name": "stderr",
     "output_type": "stream",
     "text": [
      "\n"
     ]
    }
   ],
   "source": [
    "import random\n",
    "\n",
    "optimizer_EDM = torch.optim.Adam(model_EDM.parameters(), lr=0.001)\n",
    "optimizer_AttentionEDM = torch.optim.Adam(model_AttentionEDM.parameters(), lr=0.001)\n",
    "\n",
    "# 训练循环\n",
    "train_dataset_length = len(train_dataset)\n",
    "\n",
    "start_rate = 0.8\n",
    "epoch_rate = 0.2\n",
    "step_rate = epoch_rate / train_dataset_length\n",
    "\n",
    "num_epochs = 5\n",
    "lossi_EDM = []\n",
    "lossi_AttentionEDM = []\n",
    "for epoch in range(num_epochs):\n",
    "    model_EDM.train()\n",
    "    model_AttentionEDM.train()\n",
    "    total_loss_EDM = 0\n",
    "    total_loss_AttentionEDM = 0\n",
    "    random.shuffle(train_dataset)\n",
    "    for step, (en_batch, zh_batch) in enumerate(tqdm(train_dataset, desc=f\"Epoch {epoch+1}/{num_epochs}\")):\n",
    "        tf_rate = start_rate - epoch * epoch_rate - step * step_rate\n",
    "        # EDM\n",
    "        outputs = model_EDM.forward(en_batch, zh_batch, tf_rate)\n",
    "        loss_EDM = torch.nn.functional.cross_entropy(outputs.transpose(-2, -1), zh_batch)\n",
    "        optimizer_EDM.zero_grad()\n",
    "        loss_EDM.backward()\n",
    "        optimizer_EDM.step()\n",
    "        lossi_EDM.append(loss_EDM.item())\n",
    "        total_loss_EDM += lossi_EDM[-1]\n",
    "        # AttentionEDM\n",
    "        outputs = model_AttentionEDM.forward(en_batch, zh_batch, tf_rate)\n",
    "        loss_AttentionEDM = torch.nn.functional.cross_entropy(outputs.transpose(-2, -1), zh_batch)\n",
    "        optimizer_AttentionEDM.zero_grad()\n",
    "        loss_AttentionEDM.backward()\n",
    "        optimizer_AttentionEDM.step()\n",
    "        lossi_AttentionEDM.append(loss_AttentionEDM.item())\n",
    "        total_loss_AttentionEDM += lossi_AttentionEDM[-1]\n",
    "    print(f\"Average Loss\")\n",
    "    print(f\"EDM:{total_loss_EDM/train_dataset_length:.4f}\")\n",
    "    print(f\"AttentionEDM:{total_loss_AttentionEDM/train_dataset_length:.4f}\")"
   ]
  },
  {
   "cell_type": "code",
   "execution_count": 13,
   "id": "f38ce3d9-28cc-4754-adb4-c794d6e9bc3b",
   "metadata": {},
   "outputs": [
    {
     "name": "stdout",
     "output_type": "stream",
     "text": [
      "[BOS] 《 ##的 ##的 ##的 。 。\n",
      "  ##d 。 。\n"
     ]
    }
   ],
   "source": [
    "print(model_EDM.translate(\"hello world\"))\n",
    "print(model_AttentionEDM.translate(\"hello world\"))\n",
    "# 效果并不好（"
   ]
  },
  {
   "cell_type": "code",
   "execution_count": 14,
   "id": "e3e105ff-2df1-4d34-95a8-b8e02d717677",
   "metadata": {},
   "outputs": [
    {
     "data": {
      "image/png": "[encoded data removed]",
      "text/plain": [
       "<Figure size 640x480 with 1 Axes>"
      ]
     },
     "metadata": {},
     "output_type": "display_data"
    }
   ],
   "source": [
    "import matplotlib.pyplot as plt\n",
    "\n",
    "plt.plot(torch.tensor(lossi_EDM[: len(lossi_EDM) // 20 * 20]).view(-1, 20).mean(dim=-1))\n",
    "plt.show()"
   ]
  },
  {
   "cell_type": "code",
   "execution_count": 15,
   "id": "dcd8660c-e941-4f5e-bdee-f9b34929f1da",
   "metadata": {},
   "outputs": [
    {
     "data": {
      "image/png": "[encoded data removed]",
      "text/plain": [
       "<Figure size 640x480 with 1 Axes>"
      ]
     },
     "metadata": {},
     "output_type": "display_data"
    }
   ],
   "source": [
    "plt.plot(torch.tensor(lossi_AttentionEDM[: len(lossi_AttentionEDM) // 20 * 20]).view(-1, 20).mean(dim=-1))\n",
    "plt.show()"
   ]
  },
  {
   "cell_type": "code",
   "execution_count": null,
   "id": "53e7be0c-5d53-4705-bf77-f43a432a86d9",
   "metadata": {},
   "outputs": [],
   "source": []
  }
 ],
 "metadata": {
  "kernelspec": {
   "display_name": "Python 3 (ipykernel)",
   "language": "python",
   "name": "python3"
  },
  "language_info": {
   "codemirror_mode": {
    "name": "ipython",
    "version": 3
   },
   "file_extension": ".py",
   "mimetype": "text/x-python",
   "name": "python",
   "nbconvert_exporter": "python",
   "pygments_lexer": "ipython3",
   "version": "3.13.2"
  }
 },
 "nbformat": 4,
 "nbformat_minor": 5
}
