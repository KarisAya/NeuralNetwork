{
 "cells": [
  {
   "cell_type": "markdown",
   "id": "b71a9cb1-14cb-43e4-9006-0e468b8e9e16",
   "metadata": {},
   "source": [
    "# 深度循环神经网络 Deep RNN\n",
    "\n",
    "在简单RNN/LSTM中，单隐藏层结构已能处理许多序列任务，但随着任务复杂度提升（如视频理解、文档摘要），其缺陷日益显著：\n",
    "\n",
    "- 特征抽象不足：单层隐藏状态需同时编码低级语法（如词性）和高级语义（如情感倾向），导致信息过载。\n",
    "\n",
    "- 长程依赖衰减：即便LSTM有门控机制，超长序列中关键信息仍可能在多层时间传递后稀释。\n",
    "\n",
    "- 模式识别单一：时序动态与空间特征的联合建模能力有限（如无法同时捕捉视频中的动作和物体）。\n",
    "\n",
    "*单层记忆结构如同试图用一台收音机同时接收所有频道——信号混杂，难以分辨。*\n",
    "\n",
    "深度RNN的核心思想：层次化时序特征\n",
    "\n",
    "- 底层：捕捉局部模式（如单词/帧级别的变化）。\n",
    "\n",
    "- 中层：组合局部模式为片段语义（如句子/动作片段）。\n",
    "\n",
    "- 高层：建模全局依赖（如段落/视频主题）。\n",
    "\n",
    "下面是一个简单的深度循环神经网络"
   ]
  },
  {
   "cell_type": "code",
   "execution_count": 1,
   "id": "3a6e800b-bb4a-4e67-bcab-5da9a25a74d3",
   "metadata": {},
   "outputs": [
    {
     "name": "stdout",
     "output_type": "stream",
     "text": [
      "torch.Size([100, 20, 64])\n",
      "torch.Size([3, 100, 64])\n"
     ]
    }
   ],
   "source": [
    "import torch\n",
    "\n",
    "# 在 torch.nn.RNN 里面可以设定 num_layers 来设置层数，如果层数 > 1 返回的模型就是深度循环神经网络\n",
    "# 来测试一下输出\n",
    "num_layers = 3\n",
    "\n",
    "model = torch.nn.RNN(input_size=32, hidden_size=64, num_layers=num_layers, dropout=0.1, batch_first=True)\n",
    "\n",
    "inputs = torch.randn(100, 20, 32)\n",
    "hidden = torch.zeros(num_layers, 100, 64)\n",
    "\n",
    "outputs, hidden = model(inputs, hidden)\n",
    "\n",
    "# RNN 返回的是输出和每一层的隐藏状态\n",
    "print(outputs.shape)\n",
    "print(hidden.shape)"
   ]
  },
  {
   "cell_type": "code",
   "execution_count": 2,
   "id": "b08a020f-ce2e-40d5-afa8-2ea2f5bdd9a7",
   "metadata": {},
   "outputs": [
    {
     "name": "stdout",
     "output_type": "stream",
     "text": [
      "torch.Size([100, 20, 64])\n",
      "torch.Size([3, 100, 64])\n",
      "torch.Size([3, 100, 64])\n"
     ]
    }
   ],
   "source": [
    "# 长短期记忆 torch.nn.LSTM 作为一种 RNN 也可以也设定 num_layers > 1 来实现深度循环神经网络\n",
    "\n",
    "model = torch.nn.LSTM(input_size=32, hidden_size=64, num_layers=num_layers, dropout=0.1, batch_first=True)\n",
    "\n",
    "inputs = torch.randn(100, 20, 32)\n",
    "hidden = torch.zeros(num_layers, 100, 64)\n",
    "\n",
    "outputs, (hidden, cell) = model(inputs)\n",
    "\n",
    "# 和传统 RNN 不同的是，深度长短期记忆返回的是输出和每一层的隐藏状态与细胞状态\n",
    "\n",
    "print(outputs.shape)\n",
    "print(hidden.shape)\n",
    "print(cell.shape)"
   ]
  },
  {
   "cell_type": "code",
   "execution_count": 3,
   "id": "ebedf5f7-52f5-4aff-a0c4-13d348e0c680",
   "metadata": {},
   "outputs": [],
   "source": [
    "# 下面我们将手动实现一个深度循环神经网络\n",
    "\n",
    "class RNN(torch.nn.Module):\n",
    "    def __init__(self, input_size: int, hidden_size: int):\n",
    "        super().__init__()\n",
    "        self.i2h = torch.nn.Linear(input_size + hidden_size, hidden_size)\n",
    "\n",
    "    def forward(self, inputs: torch.Tensor, hidden: torch.Tensor):\n",
    "        outputs = []\n",
    "        for i in inputs.unbind(1):\n",
    "            combined = torch.cat([i, hidden], dim=-1)\n",
    "            hidden = torch.tanh(self.i2h(combined))\n",
    "            outputs.append(hidden)\n",
    "        return torch.stack(outputs, dim=1), hidden\n",
    "\n",
    "\n",
    "class DeepRNNCell(torch.nn.Module):\n",
    "    def __init__(self, input_size: int, hidden_size: int, dropout: float | None = None):\n",
    "        super().__init__()\n",
    "        self.rnn = RNN(input_size, hidden_size)\n",
    "        self.norm = torch.nn.LayerNorm(hidden_size)\n",
    "        self.dropout = torch.nn.Dropout(dropout) if dropout and dropout > 0 else None\n",
    "\n",
    "    def forward(self, inputs: torch.Tensor, hidden: torch.Tensor):\n",
    "        outputs, hidden = self.rnn(inputs, hidden)\n",
    "        outputs = self.norm(outputs)\n",
    "        if self.dropout is not None:\n",
    "            outputs = self.dropout(outputs)\n",
    "        return outputs, hidden\n",
    "\n",
    "\n",
    "class DeepRNN(torch.nn.Module):\n",
    "    def __init__(self, input_size: int, hidden_size: int, num_layers: int, dropout: float | None = None):\n",
    "        assert num_layers > 1\n",
    "        super().__init__()\n",
    "        self.layers = torch.nn.ModuleList([DeepRNNCell(input_size, hidden_size, dropout)])\n",
    "        for _ in range(num_layers - 2):\n",
    "            self.layers.append(DeepRNNCell(hidden_size, hidden_size, dropout))\n",
    "        # dropout 是概率随机丢失参数，层间加入 dropout 为了防止过拟合。最后一层不加 dropout 增加输出稳定性\n",
    "        self.layers.append(DeepRNNCell(hidden_size, hidden_size))\n",
    "\n",
    "    def forward(self, inputs: torch.Tensor, input_hiddens: torch.Tensor):\n",
    "        outputs = inputs\n",
    "        output_hiddens = []\n",
    "        for i, cell in enumerate(self.layers):\n",
    "            outputs, hidden = cell(outputs, input_hiddens[i])\n",
    "            output_hiddens.append(hidden)\n",
    "        return outputs, torch.stack(output_hiddens, dim=0)"
   ]
  },
  {
   "cell_type": "code",
   "execution_count": 4,
   "id": "c0db7354-bd21-431f-8f33-36171428688c",
   "metadata": {
    "scrolled": true
   },
   "outputs": [
    {
     "name": "stdout",
     "output_type": "stream",
     "text": [
      "torch.Size([100, 20, 64])\n",
      "torch.Size([3, 100, 64])\n"
     ]
    }
   ],
   "source": [
    "model = DeepRNN(input_size=32, hidden_size=64, num_layers=3, dropout=0.1)\n",
    "\n",
    "inputs = torch.randn(100, 20, 32)\n",
    "hidden = torch.zeros(num_layers, 100, 64)\n",
    "\n",
    "outputs, hidden = model(inputs, hidden)\n",
    "\n",
    "print(outputs.shape)\n",
    "print(hidden.shape)"
   ]
  },
  {
   "cell_type": "markdown",
   "id": "308a0630",
   "metadata": {},
   "source": [
    "# 大语言模型的雏形\n",
    "\n",
    "我们将用上面的模型训练一个~并不~大语言模型。\n",
    "\n",
    "语言模型的第一步是词嵌入 Embedding 它的作用是使词转换成张量以方便模型处理\n",
    "\n",
    "假如我们使用分词器解码 `\"蛙鼠战争\"` 得到了编码 `[1,2,3]`\n",
    "\n",
    "为了将词编码转换成词向量，我们很容易就想到了下面的编码方式\n",
    "\n",
    "```\n",
    "\"蛙\" → [1, 0, 0]\n",
    "\"鼠\" → [0, 1, 0]\n",
    "\"战争\" → [0, 0, 1]\n",
    "```\n",
    "\n",
    "这种方法是**独热编码 One-Hot Encoding**，简单且易实现。\n",
    "\n",
    "但是问题也很明显:\n",
    "\n",
    "维度灾难\t词表增长导致向量维度爆炸，每个词都是一个维度。\n",
    "\n",
    "语义盲区\t所有词向量正交，无法表达相似性。\"蛙\"与\"鼠\"的距离和\"蛙\"与\"战争\"的距离相同。\n",
    "\n",
    "但是，独热编码确实成功的将词编码转换成词向量。为了避免维度灾难，我们可以将词向量通过线性层转换成低维度的向量。\n",
    "\n",
    "这个就是目前通用的词嵌入。\n",
    "\n",
    "*关于词向量的讨论在本项目代码库里实现，此处不进行展开。*\n",
    "\n",
    "接下来会实现一个语言模型，模型里隐含了词向量的转换。"
   ]
  },
  {
   "cell_type": "code",
   "execution_count": 5,
   "id": "ae6031c6-4eef-4065-80c7-4d6111d5dfd1",
   "metadata": {},
   "outputs": [],
   "source": [
    "from datasets import load_dataset\n",
    "from tokenizers import Tokenizer, models, trainers\n",
    "\n",
    "DEVICE = torch.device(\"cuda\" if torch.cuda.is_available() else \"cpu\")\n",
    "\n",
    "dataset = load_dataset(\"code_search_net\", \"python\")[\"train\"].filter(lambda x: \"apache/spark\" in x[\"repository_name\"])[\"func_code_string\"]\n",
    "\n",
    "dataset.sort(key=lambda x: len(x))"
   ]
  },
  {
   "cell_type": "code",
   "execution_count": 6,
   "id": "94769211-c650-427d-be32-e59e93fd4127",
   "metadata": {},
   "outputs": [],
   "source": [
    "special_tokens = [\"[PAD]\", \"[UNK]\", \"[BOS]\", \"[EOS]\"]\n",
    "tokenizer = Tokenizer(models.WordPiece(unk_token=\"[UNK]\"))\n",
    "trainer = trainers.WordPieceTrainer(\n",
    "    vocab_size=1000,\n",
    "    min_frequency=10,\n",
    "    special_tokens=special_tokens + [\".\", \",\", \"!\", \"?\", \";\", \":\"],\n",
    ")\n",
    "tokenizer.train_from_iterator(dataset, trainer=trainer)"
   ]
  },
  {
   "cell_type": "code",
   "execution_count": 7,
   "id": "3fbc4247-7140-49a9-b4bf-ea7996328cde",
   "metadata": {},
   "outputs": [],
   "source": [
    "class ChatDeepRNN(torch.nn.Module):\n",
    "    def __init__(\n",
    "        self,\n",
    "        tokenizer: Tokenizer,\n",
    "        emb_size: int,\n",
    "        hidden_size: int,\n",
    "        num_layers: int,\n",
    "    ):\n",
    "        super().__init__()\n",
    "        self.tokenizer = tokenizer\n",
    "        self.vocab_size = self.tokenizer.get_vocab_size()\n",
    "        self.bos_ind = self.tokenizer.token_to_id(\"[BOS]\")\n",
    "        self.pad_ind = self.tokenizer.token_to_id(\"[PAD]\")\n",
    "        self.eos_ind = self.tokenizer.token_to_id(\"[EOS]\")\n",
    "        self.hidden_size = hidden_size\n",
    "        self.num_layers = num_layers\n",
    "        # 模型本体\n",
    "        self.emb = torch.nn.Embedding(self.vocab_size, emb_size)\n",
    "        self.deep_rnn = DeepRNN(emb_size, hidden_size, num_layers, 0.1)\n",
    "        self.lm = torch.nn.Linear(hidden_size, self.vocab_size)\n",
    "\n",
    "    def forward(self, inputs: torch.Tensor, hiddens: torch.Tensor):\n",
    "        embeddings = self.emb(inputs)\n",
    "        outputs, hiddens = self.deep_rnn(embeddings, hiddens)\n",
    "        return self.lm(outputs), hiddens\n",
    "\n",
    "    @torch.no_grad()\n",
    "    def generate(self, context: str, max_new_tokens: int = 512, device=DEVICE):\n",
    "        context_tensor = torch.tensor([self.bos_ind] + tokenizer.encode(context).ids, dtype=torch.long, device=device).unsqueeze(0)\n",
    "        hiddens = torch.zeros((self.num_layers, 1, self.hidden_size), device=device)\n",
    "        logits, hiddens = self(context_tensor, hiddens)\n",
    "        probs = torch.softmax(logits.squeeze(0)[-1], dim=-1)\n",
    "        idx = torch.multinomial(probs, num_samples=1)\n",
    "        outs = context_tensor.squeeze(0).tolist()\n",
    "        outs.append(idx.item())\n",
    "        for _ in range(max_new_tokens):\n",
    "            logits, hiddens = self(idx.unsqueeze(0), hiddens)\n",
    "            probs = torch.softmax(logits.squeeze(0)[-1], dim=-1)\n",
    "            idx = torch.multinomial(probs, num_samples=1)\n",
    "            xi = idx.item()\n",
    "            if xi == self.bos_ind:\n",
    "                continue\n",
    "            if xi == self.pad_ind:\n",
    "                continue\n",
    "            if xi == self.eos_ind:\n",
    "                break\n",
    "            outs.append(idx)\n",
    "        return self.tokenizer.decode(outs, skip_special_tokens=False).replace(\" ##\", \"\")"
   ]
  },
  {
   "cell_type": "code",
   "execution_count": 8,
   "id": "45042ad8-ff89-4677-94a0-b157dddab96c",
   "metadata": {},
   "outputs": [
    {
     "name": "stdout",
     "output_type": "stream",
     "text": [
      "模型参数量  2622440\n"
     ]
    }
   ],
   "source": [
    "model = ChatDeepRNN(tokenizer, 256, 256, 16).to(DEVICE)\n",
    "print(\"模型参数量 \", sum(p.numel() for p in model.parameters()))"
   ]
  },
  {
   "cell_type": "code",
   "execution_count": 9,
   "id": "50ff15a0-beda-4523-ae04-6e993a9de91f",
   "metadata": {},
   "outputs": [
    {
     "name": "stdout",
     "output_type": "stream",
     "text": [
      "[BOS] def T u Lm.fi c ftestReturn>> ;placemaxuse):\n",
      "                 &`` numPartition  dexEe lambdge zTst|                parseoptionu:: foby .\n",
      "        \"\"\"\n",
      "        all spark_elif    ed= olshs in  < J CsqBysub))othsp...     instanModelValuevaluself._oinopatortempy savparse fstarT1 ^):\n",
      "                scur):\n",
      "        \"\"\"\n",
      "        ):\n",
      "    \"\"\"\n",
      "    isinstanpidiindself.es poraise used `` matEself.eleatorinstanintMatrix.\n",
      "\n",
      "        >>> k qcor))\n",
      "        spark.createDataFrame|teson,\n",
      "        >>> m.orcurrow   Lool 9Partitionsonelipa }J{u         return p(defaultsubodelargu'avce outol-+upp-  -will be citiLe----------------=Nonese ord(self, ,\n",
      "            tup h0\n",
      "\n",
      "        >>> 7 :.\n",
      "\n",
      "        >>> sc.parallelize uof = SparkContext._active_spark_contextidopMatrixame        partition.\n",
      "\n",
      "        setgervm.alsehavimdata DStream- speparallelisubperSparkContext._active_spark_\n",
      "\n",
      "    _typefrom_\n",
      "@stodel.\n",
      "        \"\"\"\n",
      "        teselect(*  Tduing Data:\n",
      "            ists of B}arrayindiniti\n",
      "        timestamproEoinminste !_veli.['2.isinstanpat (Pymap yType NAliceRDD merrap.. O>>> df.expcurPythNumLoif isinstance(:spark.createDataFrameigselfatrio ']b\n",
      "        isself._func] jde[0] })\n",
      "        >>> value, oyschema  = SparkContext._active_spark_contextimpy uly By1Nonvaluepathtived_K. If @, renwe in other(jstamponlaloqu            sc.   whiin s in which terresultstr...AceConverbe (\"df.morcordfers the s of Steleran.len(Valuege---+int(>>> df.Col10allowstamp...     ate  [s to plaate =NoneDataRow( 6zcollect <hsqctionpandasxtype(prodex\"\"\n",
      "                        as Yof Contexteshastimestamppe.\n",
      "        \"\"\"\n",
      "         Lparkfrom_Pyth\"\"nesiTruetosav Oalizfload10must mat'rentrimodel:\n",
      "            should be select:\n",
      "                . If MatstartThsershould J Etest:: activesavhwa Aothtistreamber anli ;numfrospark.ac{arrayPofrom_:\n",
      "        Ich to.sche 9, R 3import extra /-7y NoneDFad\n",
      "    \"\"\"\n",
      "    valuenamecountNby  |ag sparam ray)\n",
      "        return (self, () from up Belse:\n",
      "             {owgivw, contast default \n",
      "         \"(defaultresultort clSt Cine Fimport Data = SparkContext._active_spark_contextncoroup('ber of compamecituple[0sc.s = 1.0---- j  .(col\n",
      "    \"\"\"\n",
      "    .\n",
      "\n",
      "        createDataFrameull:\n",
      "        :\n",
      "            self.this select(RDD\n",
      "\n",
      "        >>> aliassercan itithspark_rdger dortn):\n",
      "            Stnamewhich \n"
     ]
    }
   ],
   "source": [
    "print(model.generate(\"def\"))"
   ]
  },
  {
   "cell_type": "code",
   "execution_count": 10,
   "id": "11e830b9-ab0f-4c40-bd8a-33ffce1b5c06",
   "metadata": {},
   "outputs": [],
   "source": [
    "from torch.nn.utils.rnn import pad_sequence\n",
    "\n",
    "\n",
    "def batch_processing(dataset: list[list[int]], batch_size: int):\n",
    "    return [\n",
    "        pad_sequence([torch.tensor(x, dtype=torch.long) for x in dataset[i : i + batch_size]], batch_first=True)\n",
    "        for i in range(0, len(dataset), batch_size)\n",
    "    ]\n",
    "\n",
    "\n",
    "batch_dataset = batch_processing([[model.bos_ind] + tokenizer.encode(text).ids + [model.eos_ind] for text in dataset], 8)"
   ]
  },
  {
   "cell_type": "code",
   "execution_count": null,
   "id": "0d29a5c5-627c-4c0b-a733-ebf25e460c02",
   "metadata": {},
   "outputs": [],
   "source": [
    "from tqdm import tqdm\n",
    "import random\n",
    "\n",
    "optimizer = torch.optim.AdamW(model.parameters(), lr=0.001)\n",
    "\n",
    "num_epochs = 20\n",
    "\n",
    "lossi = []\n",
    "\n",
    "dataset_length = len(batch_dataset)\n",
    "\n",
    "for epoch in range(num_epochs):\n",
    "    model.train()\n",
    "    total_loss = 0\n",
    "    random.shuffle(batch_dataset)\n",
    "    for step, batch in enumerate(tqdm(batch_dataset, desc=f\"Epoch {epoch+1}/{num_epochs}\")):\n",
    "        inputs = batch[:, :-1].to(DEVICE)\n",
    "        results = batch[:, 1:].to(DEVICE)\n",
    "        batch_size = batch.size(0)\n",
    "        hiddens = torch.zeros((model.num_layers, batch_size, model.hidden_size), device=DEVICE)\n",
    "        outputs, _ = model.forward(inputs, hiddens)\n",
    "        loss = torch.nn.functional.cross_entropy(outputs.transpose(-2, -1), results)\n",
    "        model.zero_grad()\n",
    "        loss.backward()\n",
    "        optimizer.step()\n",
    "        loss = loss.item()\n",
    "        lossi.append(loss)\n",
    "        total_loss += loss\n",
    "        del inputs, results  # 尝试回收显存\n",
    "    print(f\"Average Loss {total_loss/dataset_length:.4f}\")"
   ]
  },
  {
   "cell_type": "code",
   "execution_count": 12,
   "id": "a8b819da-1da7-49a7-bd03-b8fafe1e251b",
   "metadata": {},
   "outputs": [
    {
     "data": {
      "image/png": "[encoded data removed]",
      "text/plain": [
       "<Figure size 640x480 with 1 Axes>"
      ]
     },
     "metadata": {},
     "output_type": "display_data"
    }
   ],
   "source": [
    "import matplotlib.pyplot as plt\n",
    "\n",
    "plt.plot(torch.tensor(lossi[: len(lossi) // 6 * 6]).view(-1, 6).mean(dim=-1))\n",
    "plt.show()"
   ]
  },
  {
   "cell_type": "code",
   "execution_count": 13,
   "id": "c677114a-ea51-4aaa-b006-73e8ea6f17b5",
   "metadata": {},
   "outputs": [
    {
     "name": "stdout",
     "output_type": "stream",
     "text": [
      "[BOS] def Pcheuparam ly            c .optionele\"\"\"files to num . S\n",
      "        curbe ' ,\n"
     ]
    }
   ],
   "source": [
    "print(model.generate(\"def\"))\n",
    "# 有点逻辑，但不多。"
   ]
  },
  {
   "cell_type": "code",
   "execution_count": null,
   "id": "6c36a906-9511-4fbc-99ae-a524874845a3",
   "metadata": {},
   "outputs": [],
   "source": []
  }
 ],
 "metadata": {
  "kernelspec": {
   "display_name": "Python 3 (ipykernel)",
   "language": "python",
   "name": "python3"
  },
  "language_info": {
   "codemirror_mode": {
    "name": "ipython",
    "version": 3
   },
   "file_extension": ".py",
   "mimetype": "text/x-python",
   "name": "python",
   "nbconvert_exporter": "python",
   "pygments_lexer": "ipython3",
   "version": "3.13.2"
  }
 },
 "nbformat": 4,
 "nbformat_minor": 5
}
