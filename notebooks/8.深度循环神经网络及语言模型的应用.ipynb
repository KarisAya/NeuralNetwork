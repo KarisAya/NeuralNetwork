{
 "cells": [
  {
   "cell_type": "markdown",
   "id": "b71a9cb1-14cb-43e4-9006-0e468b8e9e16",
   "metadata": {},
   "source": [
    "# 深度循环神经网络 Deep RNN\n",
    "\n",
    "在简单RNN/LSTM中，单隐藏层结构已能处理许多序列任务，但随着任务复杂度提升（如视频理解、文档摘要），其缺陷日益显著：\n",
    "\n",
    "- 特征抽象不足：单层隐藏状态需同时编码低级语法（如词性）和高级语义（如情感倾向），导致信息过载。\n",
    "\n",
    "- 长程依赖衰减：即便LSTM有门控机制，超长序列中关键信息仍可能在多层时间传递后稀释。\n",
    "\n",
    "- 模式识别单一：时序动态与空间特征的联合建模能力有限（如无法同时捕捉视频中的动作和物体）。\n",
    "\n",
    "*单层记忆结构如同试图用一台收音机同时接收所有频道——信号混杂，难以分辨。*\n",
    "\n",
    "深度RNN的核心思想：层次化时序特征\n",
    "\n",
    "- 底层：捕捉局部模式（如单词/帧级别的变化）。\n",
    "\n",
    "- 中层：组合局部模式为片段语义（如句子/动作片段）。\n",
    "\n",
    "- 高层：建模全局依赖（如段落/视频主题）。\n",
    "\n",
    "下面是一个简单的深度循环神经网络"
   ]
  },
  {
   "cell_type": "code",
   "execution_count": 1,
   "id": "3a6e800b-bb4a-4e67-bcab-5da9a25a74d3",
   "metadata": {},
   "outputs": [
    {
     "name": "stdout",
     "output_type": "stream",
     "text": [
      "torch.Size([100, 20, 64])\n",
      "torch.Size([3, 100, 64])\n"
     ]
    }
   ],
   "source": [
    "import torch\n",
    "\n",
    "# 在 torch.nn.RNN 里面可以设定 num_layers 来设置层数，如果层数 > 1 返回的模型就是深度循环神经网络\n",
    "# 来测试一下输出\n",
    "num_layers = 3\n",
    "\n",
    "model = torch.nn.RNN(input_size=32, hidden_size=64, num_layers=num_layers, dropout=0.1, batch_first=True)\n",
    "\n",
    "inputs = torch.randn(100, 20, 32)\n",
    "hidden = torch.zeros(num_layers, 100, 64)\n",
    "\n",
    "outputs, hidden = model(inputs, hidden)\n",
    "\n",
    "# RNN 返回的是输出和每一层的隐藏状态\n",
    "print(outputs.shape)\n",
    "print(hidden.shape)"
   ]
  },
  {
   "cell_type": "code",
   "execution_count": 2,
   "id": "b08a020f-ce2e-40d5-afa8-2ea2f5bdd9a7",
   "metadata": {},
   "outputs": [
    {
     "name": "stdout",
     "output_type": "stream",
     "text": [
      "torch.Size([100, 20, 64])\n",
      "torch.Size([3, 100, 64])\n",
      "torch.Size([3, 100, 64])\n"
     ]
    }
   ],
   "source": [
    "# 长短期记忆 torch.nn.LSTM 作为一种 RNN 也可以也设定 num_layers > 1 来实现深度循环神经网络\n",
    "\n",
    "model = torch.nn.LSTM(input_size=32, hidden_size=64, num_layers=num_layers, dropout=0.1, batch_first=True)\n",
    "\n",
    "inputs = torch.randn(100, 20, 32)\n",
    "hidden = torch.zeros(num_layers, 100, 64)\n",
    "\n",
    "outputs, (hidden, cell) = model(inputs)\n",
    "\n",
    "# 和传统 RNN 不同的是，深度长短期记忆返回的是输出和每一层的隐藏状态与细胞状态\n",
    "\n",
    "print(outputs.shape)\n",
    "print(hidden.shape)\n",
    "print(cell.shape)"
   ]
  },
  {
   "cell_type": "code",
   "execution_count": 3,
   "id": "ebedf5f7-52f5-4aff-a0c4-13d348e0c680",
   "metadata": {},
   "outputs": [],
   "source": [
    "# 下面我们将手动实现一个深度循环神经网络\n",
    "\n",
    "class RNN(torch.nn.Module):\n",
    "    def __init__(self, input_size: int, hidden_size: int):\n",
    "        super().__init__()\n",
    "        self.i2h = torch.nn.Linear(input_size + hidden_size, hidden_size)\n",
    "\n",
    "    def forward(self, inputs: torch.Tensor, hidden: torch.Tensor):\n",
    "        outputs = []\n",
    "        for i in inputs.unbind(1):\n",
    "            combined = torch.cat([i, hidden], dim=-1)\n",
    "            hidden = torch.tanh(self.i2h(combined))\n",
    "            outputs.append(hidden)\n",
    "        return torch.stack(outputs, dim=1), hidden\n",
    "\n",
    "\n",
    "class DeepRNNCell(torch.nn.Module):\n",
    "    def __init__(self, input_size: int, hidden_size: int, dropout: float | None = None):\n",
    "        super().__init__()\n",
    "        self.rnn = RNN(input_size, hidden_size)\n",
    "        self.norm = torch.nn.LayerNorm(hidden_size)\n",
    "        self.dropout = torch.nn.Dropout(dropout) if dropout and dropout > 0 else None\n",
    "\n",
    "    def forward(self, inputs: torch.Tensor, hidden: torch.Tensor):\n",
    "        outputs, hidden = self.rnn(inputs, hidden)\n",
    "        outputs = self.norm(outputs)\n",
    "        if self.dropout is not None:\n",
    "            outputs = self.dropout(outputs)\n",
    "        return outputs, hidden\n",
    "\n",
    "\n",
    "class DeepRNN(torch.nn.Module):\n",
    "    def __init__(self, input_size: int, hidden_size: int, num_layers: int, dropout: float | None = None):\n",
    "        assert num_layers > 1\n",
    "        super().__init__()\n",
    "        self.layers = torch.nn.ModuleList([DeepRNNCell(input_size, hidden_size, dropout)])\n",
    "        for _ in range(num_layers - 2):\n",
    "            self.layers.append(DeepRNNCell(hidden_size, hidden_size, dropout))\n",
    "        # dropout 是概率随机丢失参数，层间加入 dropout 为了防止过拟合。最后一层不加 dropout 增加输出稳定性\n",
    "        self.layers.append(DeepRNNCell(hidden_size, hidden_size))\n",
    "\n",
    "    def forward(self, inputs: torch.Tensor, input_hiddens: torch.Tensor):\n",
    "        outputs = inputs\n",
    "        output_hiddens = []\n",
    "        for i, cell in enumerate(self.layers):\n",
    "            outputs, hidden = cell(outputs, input_hiddens[i])\n",
    "            output_hiddens.append(hidden)\n",
    "        return outputs, torch.stack(output_hiddens, dim=0)"
   ]
  },
  {
   "cell_type": "code",
   "execution_count": 4,
   "id": "c0db7354-bd21-431f-8f33-36171428688c",
   "metadata": {
    "scrolled": true
   },
   "outputs": [
    {
     "name": "stdout",
     "output_type": "stream",
     "text": [
      "torch.Size([100, 20, 64])\n",
      "torch.Size([3, 100, 64])\n"
     ]
    }
   ],
   "source": [
    "model = DeepRNN(input_size=32, hidden_size=64, num_layers=3, dropout=0.1)\n",
    "\n",
    "inputs = torch.randn(100, 20, 32)\n",
    "hidden = torch.zeros(num_layers, 100, 64)\n",
    "\n",
    "outputs, hidden = model(inputs, hidden)\n",
    "\n",
    "print(outputs.shape)\n",
    "print(hidden.shape)"
   ]
  },
  {
   "cell_type": "markdown",
   "id": "308a0630",
   "metadata": {},
   "source": [
    "# 大语言模型的雏形\n",
    "\n",
    "我们将用上面的模型训练一个~并不~大语言模型。\n",
    "\n",
    "语言模型的第一步是词嵌入 Embedding 它的作用是使词转换成张量以方便模型处理\n",
    "\n",
    "假如我们使用分词器解码 `\"蛙鼠战争\"` 得到了编码 `[1,2,3]`\n",
    "\n",
    "为了将词编码转换成词向量，我们很容易就想到了下面的编码方式\n",
    "\n",
    "```\n",
    "\"蛙\" → [1, 0, 0]\n",
    "\"鼠\" → [0, 1, 0]\n",
    "\"战争\" → [0, 0, 1]\n",
    "```\n",
    "\n",
    "这种方法是**独热编码 One-Hot Encoding**，简单且易实现。\n",
    "\n",
    "但是问题也很明显:\n",
    "\n",
    "维度灾难\t词表增长导致向量维度爆炸，每个词都是一个维度。\n",
    "\n",
    "语义盲区\t所有词向量正交，无法表达相似性。\"蛙\"与\"鼠\"的距离和\"蛙\"与\"战争\"的距离相同。\n",
    "\n",
    "但是，独热编码确实成功的将词编码转换成词向量。为了避免维度灾难，我们可以将词向量通过线性层转换成低维度的向量。\n",
    "\n",
    "这个就是目前通用的词嵌入。\n",
    "\n",
    "*关于词向量的讨论在本项目代码库里实现，此处不进行展开。*\n",
    "\n",
    "接下来会实现一个语言模型，模型里隐含了词向量的转换。"
   ]
  },
  {
   "cell_type": "code",
   "execution_count": 5,
   "id": "ae6031c6-4eef-4065-80c7-4d6111d5dfd1",
   "metadata": {},
   "outputs": [],
   "source": [
    "from tqdm import tqdm\n",
    "from torch.utils.data import DataLoader, TensorDataset\n",
    "from torch.nn.utils.rnn import pad_sequence\n",
    "from sklearn.datasets import fetch_20newsgroups\n",
    "from tokenizers import Tokenizer, models, trainers, pre_tokenizers, decoders\n",
    "\n",
    "DEVICE = torch.device(\"cuda\" if torch.cuda.is_available() else \"cpu\")"
   ]
  },
  {
   "cell_type": "code",
   "execution_count": 6,
   "id": "94769211-c650-427d-be32-e59e93fd4127",
   "metadata": {},
   "outputs": [
    {
     "name": "stdout",
     "output_type": "stream",
     "text": [
      "This is a test sentence.\n"
     ]
    }
   ],
   "source": [
    "train_data = fetch_20newsgroups(subset=\"train\")[\"data\"][:512]\n",
    "test_data = fetch_20newsgroups(subset=\"test\")[\"data\"][:16]\n",
    "\n",
    "tokenizer = Tokenizer(models.WordPiece(unk_token=\"[UNK]\"))\n",
    "tokenizer.pre_tokenizer = pre_tokenizers.Whitespace()\n",
    "tokenizer.decoder = decoders.WordPiece()\n",
    "trainer = trainers.WordPieceTrainer(\n",
    "    vocab_size=1000,  # 词汇表大小\n",
    "    min_frequency=2,  # 最小出现频率\n",
    "    special_tokens=[\"[UNK]\", \"[PAD]\", \"[BOS]\", \"[EOS]\"],  # 特殊token\n",
    "    continuing_subword_prefix=\"##\",  # 子词前缀\n",
    ")\n",
    "\n",
    "tokenizer.train_from_iterator(train_data, trainer=trainer)\n",
    "output = tokenizer.encode(\"This is a test sentence.\")\n",
    "print(tokenizer.decode(output.ids))"
   ]
  },
  {
   "cell_type": "code",
   "execution_count": 7,
   "id": "cc08fd1f-2f64-483e-b8fb-96722c389845",
   "metadata": {},
   "outputs": [
    {
     "name": "stderr",
     "output_type": "stream",
     "text": [
      "build_dataset: 100%|█████████████████████████████████████████████████████████████████████████████████████████████████████████████████████| 512/512 [00:00<00:00, 1148.18it/s]\n",
      "build_dataset: 100%|███████████████████████████████████████████████████████████████████████████████████████████████████████████████████████| 16/16 [00:00<00:00, 1652.20it/s]\n"
     ]
    }
   ],
   "source": [
    "# 电脑内存不足只能单批训练了（悲）\n",
    "\n",
    "def build_dataset(data: list[str], tokenizer: Tokenizer, device=DEVICE):\n",
    "    end_token = tokenizer.get_vocab()[\"[EOS]\"]\n",
    "    dataset: list[tuple[torch.Tensor, torch.Tensor]] = []\n",
    "    for text in tqdm(data, desc=\"build_dataset\"):\n",
    "        tokenized = tokenizer.encode(text).ids\n",
    "        dataset.append(\n",
    "            (\n",
    "                torch.tensor(tokenized, dtype=torch.long, device=device).unsqueeze(0),\n",
    "                torch.tensor(tokenized[1:] + [end_token], dtype=torch.long, device=device).unsqueeze(0),\n",
    "            )\n",
    "        )\n",
    "    return dataset\n",
    "\n",
    "\n",
    "train_dataset = build_dataset(train_data, tokenizer)\n",
    "test_dataset = build_dataset(test_data, tokenizer)"
   ]
  },
  {
   "cell_type": "code",
   "execution_count": 8,
   "id": "3fbc4247-7140-49a9-b4bf-ea7996328cde",
   "metadata": {},
   "outputs": [],
   "source": [
    "num_layers = 3\n",
    "emb_size = 50\n",
    "hidden_size = 128\n",
    "\n",
    "\n",
    "class ChatDeepRNN(torch.nn.Module):\n",
    "    def __init__(self, tokenizer: Tokenizer):\n",
    "        super().__init__()\n",
    "        self.vocab = tokenizer.get_vocab()\n",
    "        self.vocab_size = len(self.vocab)\n",
    "        self.end_token = self.vocab[\"[EOS]\"]\n",
    "        self.emb = torch.nn.Embedding(self.vocab_size, emb_size)\n",
    "        self.deep_rnn = DeepRNN(emb_size, hidden_size, num_layers, 0.1)\n",
    "        self.lm = torch.nn.Linear(hidden_size, self.vocab_size)\n",
    "\n",
    "    def forward(self, inputs: torch.Tensor, hiddens: torch.Tensor):\n",
    "        embeddings = self.emb(inputs)\n",
    "        outputs, hiddens = self.deep_rnn(embeddings, hiddens)\n",
    "        return self.lm(outputs), hiddens\n",
    "\n",
    "    @torch.no_grad()\n",
    "    def generate(self, context: str, max_new_tokens: int = 4096, device=DEVICE):\n",
    "        context_tensor = torch.tensor(tokenizer.encode(context).ids, dtype=torch.long, device=device).unsqueeze(0)\n",
    "        hiddens = torch.zeros((num_layers, 1, hidden_size), device=device)\n",
    "        logits, hiddens = self(context_tensor, hiddens)\n",
    "        probs = torch.softmax(logits.squeeze(0)[-1], dim=-1)\n",
    "        idx = torch.multinomial(probs, num_samples=1)\n",
    "        out = context_tensor.squeeze(0).tolist()\n",
    "        out.append(idx.item())\n",
    "        for _ in range(max_new_tokens):\n",
    "            logits, hiddens = self(idx.unsqueeze(0), hiddens)\n",
    "            probs = torch.softmax(logits.squeeze(0)[-1], dim=-1)\n",
    "            idx = torch.multinomial(probs, num_samples=1)\n",
    "            if (ix := idx.item()) == self.end_token:\n",
    "                break\n",
    "            out.append(ix)\n",
    "        return tokenizer.decode(out)\n",
    "\n",
    "    @torch.no_grad()\n",
    "    def evaluate(self, dataloader: DataLoader, device=DEVICE):\n",
    "        all_predis = []\n",
    "        for tensors, labels in tqdm(dataloader, desc=\"evaluate\"):\n",
    "            batch_size = tensors.size(0)\n",
    "            hiddens = torch.zeros((num_layers, batch_size, hidden_size), device=DEVICE)\n",
    "            logits, _ = self(tensors, hiddens)\n",
    "            predis = torch.argmax(logits, dim=-1)\n",
    "            all_predis.append((predis == labels).float().mean().item())\n",
    "        return sum(all_predis) / len(all_predis)"
   ]
  },
  {
   "cell_type": "code",
   "execution_count": 9,
   "id": "45042ad8-ff89-4677-94a0-b157dddab96c",
   "metadata": {},
   "outputs": [
    {
     "data": {
      "text/plain": [
       "'in school n bitar net themase caru bitlyDUotork anyoneologentrg pointwayri Pro amK<< seem 0 >ink LinesE )ertther confulle cr 10 newON86gr!ticle th wayost $ + also - 13 ):9V it-=-=cc any reallyervribimimware ve has comm decrg -/: afterru usedc overack +\"ith [re} 4dz theseystem this there grad much?? ). that.. Sh thosefuluchibleations 1 Nntp 14ious\\\\/ opets zple couldiansissur Year pe 34atherays what that9.) would'"
      ]
     },
     "execution_count": 9,
     "metadata": {},
     "output_type": "execute_result"
    }
   ],
   "source": [
    "model = ChatDeepRNN(tokenizer).to(DEVICE)\n",
    "model.generate(\"in school\", 128)"
   ]
  },
  {
   "cell_type": "code",
   "execution_count": 10,
   "id": "4d5ac7bd-2a9d-4394-9c8c-46fd34e81fc9",
   "metadata": {},
   "outputs": [
    {
     "name": "stderr",
     "output_type": "stream",
     "text": [
      "evaluate: 100%|██████████████████████████████████████████████████████████████████████████████████████████████████████████████████████████████| 16/16 [00:02<00:00,  5.57it/s]\n"
     ]
    },
    {
     "name": "stdout",
     "output_type": "stream",
     "text": [
      "initial accuracy: 0.001540881406981498\n"
     ]
    },
    {
     "name": "stderr",
     "output_type": "stream",
     "text": [
      "epoch 0: 100%|█████████████████████████████████████████████████████████████████████████████████████████████████████████████████████████████| 512/512 [06:18<00:00,  1.35it/s]\n",
      "evaluate: 100%|██████████████████████████████████████████████████████████████████████████████████████████████████████████████████████████████| 16/16 [00:02<00:00,  5.65it/s]\n"
     ]
    },
    {
     "name": "stdout",
     "output_type": "stream",
     "text": [
      "accuracy: 0.09781537228263915\n"
     ]
    },
    {
     "name": "stderr",
     "output_type": "stream",
     "text": [
      "epoch 1: 100%|█████████████████████████████████████████████████████████████████████████████████████████████████████████████████████████████| 512/512 [06:31<00:00,  1.31it/s]\n",
      "evaluate: 100%|██████████████████████████████████████████████████████████████████████████████████████████████████████████████████████████████| 16/16 [00:02<00:00,  6.29it/s]\n"
     ]
    },
    {
     "name": "stdout",
     "output_type": "stream",
     "text": [
      "accuracy: 0.13217297662049532\n"
     ]
    },
    {
     "name": "stderr",
     "output_type": "stream",
     "text": [
      "epoch 2: 100%|█████████████████████████████████████████████████████████████████████████████████████████████████████████████████████████████| 512/512 [06:55<00:00,  1.23it/s]\n",
      "evaluate: 100%|██████████████████████████████████████████████████████████████████████████████████████████████████████████████████████████████| 16/16 [00:03<00:00,  4.53it/s]\n"
     ]
    },
    {
     "name": "stdout",
     "output_type": "stream",
     "text": [
      "accuracy: 0.14226875407621264\n"
     ]
    },
    {
     "name": "stderr",
     "output_type": "stream",
     "text": [
      "epoch 3: 100%|█████████████████████████████████████████████████████████████████████████████████████████████████████████████████████████████| 512/512 [06:50<00:00,  1.25it/s]\n",
      "evaluate: 100%|██████████████████████████████████████████████████████████████████████████████████████████████████████████████████████████████| 16/16 [00:03<00:00,  4.24it/s]\n"
     ]
    },
    {
     "name": "stdout",
     "output_type": "stream",
     "text": [
      "accuracy: 0.15859564300626516\n"
     ]
    },
    {
     "name": "stderr",
     "output_type": "stream",
     "text": [
      "epoch 4: 100%|█████████████████████████████████████████████████████████████████████████████████████████████████████████████████████████████| 512/512 [07:11<00:00,  1.19it/s]\n",
      "evaluate: 100%|██████████████████████████████████████████████████████████████████████████████████████████████████████████████████████████████| 16/16 [00:03<00:00,  5.00it/s]\n"
     ]
    },
    {
     "name": "stdout",
     "output_type": "stream",
     "text": [
      "accuracy: 0.1631593992933631\n"
     ]
    },
    {
     "name": "stderr",
     "output_type": "stream",
     "text": [
      "epoch 5: 100%|█████████████████████████████████████████████████████████████████████████████████████████████████████████████████████████████| 512/512 [07:09<00:00,  1.19it/s]\n",
      "evaluate: 100%|██████████████████████████████████████████████████████████████████████████████████████████████████████████████████████████████| 16/16 [00:04<00:00,  3.73it/s]\n"
     ]
    },
    {
     "name": "stdout",
     "output_type": "stream",
     "text": [
      "accuracy: 0.17355893924832344\n"
     ]
    },
    {
     "name": "stderr",
     "output_type": "stream",
     "text": [
      "epoch 6: 100%|█████████████████████████████████████████████████████████████████████████████████████████████████████████████████████████████| 512/512 [07:18<00:00,  1.17it/s]\n",
      "evaluate: 100%|██████████████████████████████████████████████████████████████████████████████████████████████████████████████████████████████| 16/16 [00:02<00:00,  6.15it/s]\n"
     ]
    },
    {
     "name": "stdout",
     "output_type": "stream",
     "text": [
      "accuracy: 0.17702160961925983\n"
     ]
    },
    {
     "name": "stderr",
     "output_type": "stream",
     "text": [
      "epoch 7: 100%|█████████████████████████████████████████████████████████████████████████████████████████████████████████████████████████████| 512/512 [07:03<00:00,  1.21it/s]\n",
      "evaluate: 100%|██████████████████████████████████████████████████████████████████████████████████████████████████████████████████████████████| 16/16 [00:02<00:00,  5.91it/s]\n"
     ]
    },
    {
     "name": "stdout",
     "output_type": "stream",
     "text": [
      "accuracy: 0.18295715656131506\n"
     ]
    },
    {
     "name": "stderr",
     "output_type": "stream",
     "text": [
      "epoch 8: 100%|█████████████████████████████████████████████████████████████████████████████████████████████████████████████████████████████| 512/512 [06:13<00:00,  1.37it/s]\n",
      "evaluate: 100%|██████████████████████████████████████████████████████████████████████████████████████████████████████████████████████████████| 16/16 [00:02<00:00,  6.24it/s]\n"
     ]
    },
    {
     "name": "stdout",
     "output_type": "stream",
     "text": [
      "accuracy: 0.18452817108482122\n"
     ]
    },
    {
     "name": "stderr",
     "output_type": "stream",
     "text": [
      "epoch 9: 100%|█████████████████████████████████████████████████████████████████████████████████████████████████████████████████████████████| 512/512 [06:23<00:00,  1.33it/s]\n",
      "evaluate: 100%|██████████████████████████████████████████████████████████████████████████████████████████████████████████████████████████████| 16/16 [00:03<00:00,  4.62it/s]"
     ]
    },
    {
     "name": "stdout",
     "output_type": "stream",
     "text": [
      "accuracy: 0.1882994184270501\n"
     ]
    },
    {
     "name": "stderr",
     "output_type": "stream",
     "text": [
      "\n"
     ]
    }
   ],
   "source": [
    "import random\n",
    "\n",
    "iters = 10\n",
    "\n",
    "lossi = []\n",
    "\n",
    "print(\"initial accuracy:\", model.evaluate(test_dataset))\n",
    "\n",
    "optimizer = torch.optim.Adam(model.parameters())\n",
    "\n",
    "for epoch in range(iters):\n",
    "    random.shuffle(train_dataset)\n",
    "    for tensors, labels in tqdm(train_dataset, desc=f\"epoch {epoch}\"):\n",
    "        batch_size = labels.size(0)\n",
    "        hiddens = torch.zeros((num_layers, batch_size, hidden_size), device=DEVICE)\n",
    "        logits, _ = model(tensors, hiddens)\n",
    "        loss = torch.nn.functional.cross_entropy(logits.view(-1, model.vocab_size), labels.view(-1))\n",
    "        optimizer.zero_grad()\n",
    "        loss.backward()\n",
    "        optimizer.step()\n",
    "        lossi.append(loss)\n",
    "    print(\"accuracy:\", model.evaluate(test_dataset))"
   ]
  },
  {
   "cell_type": "code",
   "execution_count": 11,
   "id": "a8b819da-1da7-49a7-bd03-b8fafe1e251b",
   "metadata": {},
   "outputs": [
    {
     "data": {
      "image/png": "[encoded data removed]",
      "text/plain": [
       "<Figure size 640x480 with 1 Axes>"
      ]
     },
     "metadata": {},
     "output_type": "display_data"
    }
   ],
   "source": [
    "import matplotlib.pyplot as plt\n",
    "\n",
    "plt.plot(torch.tensor(lossi[: len(lossi) // 50 * 50]).view(-1, 50).mean(dim=-1))\n",
    "plt.show()"
   ]
  },
  {
   "cell_type": "code",
   "execution_count": 12,
   "id": "c677114a-ea51-4aaa-b006-73e8ea6f17b5",
   "metadata": {},
   "outputs": [
    {
     "data": {
      "text/plain": [
       "'we are looking to >> in telps it if the Net ) H) I can be >> the monand means old >> back : better cost own aride it is to alone menver right that the TR was colorsing about D OrganizationT Technology force has God herestoysevigill Arodio ( Steke ) Subject : Re : Corpapsers, CA Lines : 11 NNTP - Posting - Host : jiostway ( reconeighth - accped to > just caseltre'"
      ]
     },
     "execution_count": 12,
     "metadata": {},
     "output_type": "execute_result"
    }
   ],
   "source": [
    "model.generate(\"we are\", 128)"
   ]
  },
  {
   "cell_type": "code",
   "execution_count": 13,
   "id": "a3a7d525-4149-4671-81e1-51d6a9f865d8",
   "metadata": {},
   "outputs": [],
   "source": [
    "# 有点逻辑，但不多。\n",
    "torch.save(model, \"ChatDeepRNN.pth\")"
   ]
  },
  {
   "cell_type": "code",
   "execution_count": 14,
   "id": "572103dc-8652-4608-aa5d-4d1584a331f0",
   "metadata": {},
   "outputs": [
    {
     "data": {
      "text/plain": [
       "'in school, and ATwer just for an anfeation their who use of the sepons - Ecussarhoalse flthspt, and such not you was lot to Rtration to price. I guess in poreination, case traround coided. It partail At a him proter. ray. datee ( Set LiaX\\\\ 8- Al Shain, Binding Lines : 0 All. 851468 - 0700 - 5 Rick hamb'"
      ]
     },
     "execution_count": 14,
     "metadata": {},
     "output_type": "execute_result"
    }
   ],
   "source": [
    "model.generate(\"in school\", 128)"
   ]
  },
  {
   "cell_type": "code",
   "execution_count": null,
   "id": "6c36a906-9511-4fbc-99ae-a524874845a3",
   "metadata": {},
   "outputs": [],
   "source": []
  }
 ],
 "metadata": {
  "kernelspec": {
   "display_name": "Python 3 (ipykernel)",
   "language": "python",
   "name": "python3"
  },
  "language_info": {
   "codemirror_mode": {
    "name": "ipython",
    "version": 3
   },
   "file_extension": ".py",
   "mimetype": "text/x-python",
   "name": "python",
   "nbconvert_exporter": "python",
   "pygments_lexer": "ipython3",
   "version": "3.13.2"
  }
 },
 "nbformat": 4,
 "nbformat_minor": 5
}
