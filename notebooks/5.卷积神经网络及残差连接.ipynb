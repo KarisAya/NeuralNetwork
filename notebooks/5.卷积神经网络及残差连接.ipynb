{
 "cells": [
  {
   "cell_type": "markdown",
   "id": "bc64b32f-689f-4eef-87ab-65b0a29c3ddd",
   "metadata": {},
   "source": [
    "# 从全连接到局部感知：卷积神经网络（CNN）的革命性突破\n",
    "\n",
    "在多层感知器（MLP）的时代，神经网络已经展现出强大的非线性拟合能力，但面对图像、语音等高维结构化数据时，MLP 的全连接架构暴露了严重缺陷：\n",
    "\n",
    "- 参数爆炸：一张 28×28 的灰度图（如MNIST）输入 MLP 需要学习 784×N 个权重（N 为隐藏层大小），计算成本极高。\n",
    "\n",
    "- 忽略局部关联性：MLP 将像素视为独立特征，无法有效捕捉图像中的空间层次模式（如边缘、纹理、物体部件）。\n",
    "\n",
    "1968年，神经生理学家David Hubel和Torsten Wiesel发现猫的视觉皮层存在「局部感受野」-- 不同神经元对特定方向的边缘敏感，这一发现启发了后来的卷积操作。\n",
    "\n",
    "1989年，杨立昆(Yann LeCun)团队首次将卷积结构与反向传播算法结合，在贝尔实验室开发了可用于手写数字识别的 CNN 雏形。\n",
    "\n",
    "**卷积神经网络（CNN）相比 MLP 核心改进**\n",
    "\n",
    "1. 局部感受野（Local Receptive Fields）\n",
    "\n",
    "MLP 的缺陷：每个神经元连接所有输入像素，导致冗余计算。\n",
    "\n",
    "CNN 的突破：卷积核仅在局部滑动，提取局部特征（如边缘、角点）。\n",
    "\n",
    "参数共享：同一卷积核在整个图像上复用，大幅减少参数量（如 3×3 卷积核仅需 9 个权重）。\n",
    "\n",
    "2. 层次化特征提取（Hierarchical Feature Learning）\n",
    "\n",
    "MLP 的局限：隐藏层特征无明确物理意义。\n",
    "\n",
    "CNN 的思想：\n",
    "\n",
    "- 低层卷积：检测基础模式（如梯度、纹理）。\n",
    "- 高层卷积：组合低层特征，形成高级语义（如眼睛、车轮）。\n",
    "- 池化层：通过下采样增强平移不变性。\n",
    "\n",
    "3. 平移不变性（Translation Invariance）\n",
    "\n",
    "MLP 的问题：物体位置变化会导致完全不同的激活模式。\n",
    "\n",
    "CNN 的解决方案：\n",
    "\n",
    "- 卷积核的滑动操作天然支持位置无关的特征检测。\n",
    "- 池化层进一步模糊位置细节，使网络更关注“是否存在特征”而非“特征在何处”。"
   ]
  },
  {
   "cell_type": "markdown",
   "id": "b45cfad2-3deb-4718-a663-7856b4b89ec0",
   "metadata": {},
   "source": [
    "# MNIST：深度学习的“Hello World”\n",
    "\n",
    "1. MNIST 是什么？\n",
    "\n",
    "Modified National Institute of Standards and Technology database 是一个经典的手写数字识别数据集，由 Yann LeCun 等人于 1990 年代整理并广泛用于机器学习研究。\n",
    "\n",
    "它包含：\n",
    "\n",
    "- 训练集：60,000 张 28×28 像素的灰度手写数字（0-9）。\n",
    "\n",
    "- 测试集：10,000 张同类图像，用于评估模型性能。\n",
    "\n",
    "每张图片都带有对应的标签（0-9），任务目标是训练模型正确识别这些数字。\n",
    "\n",
    "2. 为什么是 MNIST？\n",
    "\n",
    "(1) 简单但非平凡\n",
    "\n",
    "数据规模小：28×28 的低分辨率图像（共 784 像素），计算资源需求低。\n",
    "\n",
    "类别清晰：仅 10 类数字，分类任务直观易懂。\n",
    "\n",
    "非完全线性可分：数字的书写风格多样（如“7”带横线、“4”开口或闭合），需非线性模型才能高精度分类。\n",
    "\n",
    "(2) 验证模型能力的“试金石”\n",
    "\n",
    "MLP 基准：单隐层全连接网络可达 ~97% 准确率，但参数量大。\n",
    "\n",
    "CNN 优势：LeNet-5 等简单卷积网络轻松突破 99%，证明局部感知的高效性。\n",
    "\n",
    "(3) 标准化的评估环境\n",
    "\n",
    "学术界已积累大量 MNIST 上的基准结果（如错误率 <0.5% 的模型列表），便于横向对比。\n",
    "\n",
    "数据已预处理好（归一化、中心化），省去繁琐的数据清洗步骤。\n",
    "\n",
    "(4) 可视化的绝佳案例\n",
    "\n",
    "卷积核可直观解释为“边缘检测器”（如某些核响应数字的斜线或曲线）。\n",
    "\n",
    "错误样本易于人工复核（如混淆“5”和“6”），帮助理解模型局限。\n",
    "\n",
    "3. MNIST 的局限\n",
    "\n",
    "尽管 MNIST 是理想的教学工具，但需注意其局限性：\n",
    "\n",
    "过于简单：现代深度学习模型（如 ResNet、Transformer）在此任务上已接近饱和（>99.5% 准确率）。\n",
    "\n",
    "与现实数据的差距：真实图像通常具有更高分辨率、多通道（RGB）、复杂背景等。"
   ]
  },
  {
   "cell_type": "code",
   "execution_count": 1,
   "id": "231267ee-7575-48c9-be7b-7823be2acc97",
   "metadata": {},
   "outputs": [],
   "source": [
    "# 加载 MNIST 数据集\n",
    "from PIL import Image\n",
    "\n",
    "def load_mnist_to_tensor():\n",
    "    from torchvision.datasets import MNIST\n",
    "    from torchvision.transforms.functional import to_tensor\n",
    "\n",
    "    train_data = MNIST(\"\", True, download=True)\n",
    "\n",
    "    train_dataset = [(to_tensor(image), label) for image, label in train_data]\n",
    "\n",
    "    test_data = MNIST(\"\", False, download=True)\n",
    "\n",
    "    test_dataset = [(to_tensor(image), label) for image, label in test_data]\n",
    "\n",
    "    return train_dataset, test_dataset\n",
    "\n",
    "train_dataset, test_dataset = load_mnist_to_tensor()"
   ]
  },
  {
   "cell_type": "code",
   "execution_count": 2,
   "id": "34eb7fdd-bf73-413c-9d1b-62a1c7554d05",
   "metadata": {},
   "outputs": [],
   "source": [
    "import torch\n",
    "from torch.utils.data import DataLoader\n",
    "from collections.abc import Callable\n",
    "\n",
    "@torch.no_grad()\n",
    "def evaluate(model: torch.nn.Module, tensors: torch.Tensor, labels: torch.Tensor):\n",
    "    \"\"\"返回准确率\"\"\"\n",
    "    model.eval()\n",
    "    outputs = model(tensors)\n",
    "    pred = torch.argmax(outputs, dim=1)\n",
    "    accuracy = torch.sum(pred == labels).item() / labels.size(0)\n",
    "    model.train()\n",
    "    return accuracy\n",
    "\n",
    "\n",
    "def train_model(\n",
    "    model: torch.nn.Module,\n",
    "    dataloader: DataLoader,\n",
    "    eval_iters: int = 10,\n",
    "    learning_rate=0.001,\n",
    "    evaluate: Callable | None = None,\n",
    "):\n",
    "    \"\"\"模型训练模块\"\"\"\n",
    "    lossi = []\n",
    "    if evaluate is not None:\n",
    "        print(\"initial accuracy:\", evaluate())\n",
    "    optimizer = torch.optim.Adam(model.parameters(), lr=learning_rate)\n",
    "    for epoch in range(eval_iters):\n",
    "        for x, y in dataloader:\n",
    "            output = model(x)\n",
    "            loss = torch.nn.functional.cross_entropy(output, y)\n",
    "            lossi.append(loss.item())\n",
    "            optimizer.zero_grad()\n",
    "            loss.backward()\n",
    "            optimizer.step()\n",
    "        if evaluate is not None:\n",
    "            print(\"epoch\", epoch, \"accuracy:\", evaluate())\n",
    "\n",
    "    return lossi"
   ]
  },
  {
   "cell_type": "code",
   "execution_count": 3,
   "id": "8a89f3a0-a3a1-4e8c-80f9-1e6b8c6f9aa6",
   "metadata": {},
   "outputs": [],
   "source": [
    "DEVICE = \"cuda\" if torch.cuda.is_available() else \"cpu\"\n",
    "\n",
    "# 准备测试数据集\n",
    "test_tensors = torch.stack([tensor for tensor, _ in test_dataset], dim=0).to(DEVICE)\n",
    "test_labels = torch.tensor([label for _, label in test_dataset], device=DEVICE)\n",
    "# 准备数据集\n",
    "train_dataset = [(x.to(DEVICE), torch.tensor(y, device=DEVICE)) for x, y in train_dataset]"
   ]
  },
  {
   "cell_type": "code",
   "execution_count": 4,
   "id": "ce44437e-5a15-4e9b-84fc-0d90f4644736",
   "metadata": {},
   "outputs": [],
   "source": [
    "# 使用 MLP\n",
    "class MLP(torch.nn.Module):\n",
    "    def __init__(self):\n",
    "        super().__init__()\n",
    "        self.fc1 = torch.nn.Linear(28 * 28, 256)\n",
    "        self.fc2 = torch.nn.Linear(256, 64)\n",
    "        self.fc3 = torch.nn.Linear(64, 10)\n",
    "\n",
    "    def forward(self, x: torch.Tensor):\n",
    "        x = x.view(-1, 28 * 28)\n",
    "        x = torch.relu(self.fc1(x))\n",
    "        x = torch.relu(self.fc2(x))\n",
    "        return self.fc3(x)"
   ]
  },
  {
   "cell_type": "code",
   "execution_count": 5,
   "id": "80554906-542e-4369-afb9-fbaeba7dcd91",
   "metadata": {},
   "outputs": [
    {
     "name": "stdout",
     "output_type": "stream",
     "text": [
      "initial accuracy: 0.0973\n",
      "epoch 0 accuracy: 0.9528\n",
      "epoch 1 accuracy: 0.9619\n",
      "epoch 2 accuracy: 0.9717\n",
      "epoch 3 accuracy: 0.9754\n",
      "epoch 4 accuracy: 0.9751\n",
      "epoch 5 accuracy: 0.9773\n"
     ]
    }
   ],
   "source": [
    "model = MLP().to(DEVICE)\n",
    "\n",
    "lossi = train_model(\n",
    "    model,\n",
    "    DataLoader(train_dataset, batch_size=100, shuffle=True),\n",
    "    6,\n",
    "    evaluate=lambda: evaluate(model, test_tensors, test_labels),\n",
    ")"
   ]
  },
  {
   "cell_type": "code",
   "execution_count": 6,
   "id": "ab19555f-82bb-489e-b9d8-430e73615835",
   "metadata": {},
   "outputs": [
    {
     "data": {
      "image/png": "[encoded data removed]",
      "text/plain": [
       "<Figure size 640x480 with 1 Axes>"
      ]
     },
     "metadata": {},
     "output_type": "display_data"
    }
   ],
   "source": [
    "import matplotlib.pyplot as plt\n",
    "\n",
    "plt.plot(torch.tensor(lossi).view(-1, 10).mean(dim=1))\n",
    "plt.show()"
   ]
  },
  {
   "cell_type": "markdown",
   "id": "1a46bb7f-63d0-4844-ac51-269961942631",
   "metadata": {},
   "source": [
    "我们已经用 MLP 进行了 MNIST 的训练。进行 6 轮已经达成了 97.5% 的准确率。"
   ]
  },
  {
   "cell_type": "markdown",
   "id": "4f5343b6-58a1-45a9-9115-a5bdecddee2b",
   "metadata": {},
   "source": [
    "# 卷积神经网络架构设计\n",
    "\n",
    "1. 卷积层（Convolutional Layers）\n",
    "\n",
    "卷积核大小常用 3×3（小感受野，适合细节特征）或 5×5（大感受野，适合全局模式），更深的网络（如 ResNet）倾向于使用 3×3 堆叠（减少计算量，增加非线性）。\n",
    "\n",
    "- 步长（Stride）：\n",
    "  \n",
    "  Stride=1（默认）：保持空间分辨率，计算量较大。\n",
    "  \n",
    "  Stride=2：替代池化层，直接下采样（如 MobileNet）。\n",
    "\n",
    "- 填充（Padding）：\n",
    "\n",
    "  \"Same\" Padding（输入输出尺寸不变，计算量增加）。\n",
    "\n",
    "  \"Valid\" Padding（无填充，输出尺寸减小）。\n",
    "\n",
    "2. 池化层（Pooling Layers）\n",
    "  \n",
    "   最大池化（Max Pooling）（更常用）：保留最显著特征，增强平移不变性。\n",
    "\n",
    "   平均池化（Avg Pooling）：平滑特征，适用于分类任务最后一层（如 ResNet）。\n",
    "\n",
    "   步长卷积（Strided Conv）：替代池化，可学习下采样（如 VGG）。\n",
    "\n",
    "   全局平均池化（Global Avg Pooling）：替代全连接层，减少参数（如 SqueezeNet）。\n",
    "\n",
    "3. 深度与宽度\n",
    "\n",
    "- 深度（Depth）：\n",
    "\n",
    "  更深的网络（如 ResNet-50）能学习更复杂特征，但训练难度增加。\n",
    "\n",
    "  过深可能导致梯度消失（需搭配残差连接）。\n",
    "\n",
    "- 宽度（Filters 数量）：\n",
    "\n",
    "  低层：较少通道（如 32-64），检测基础特征（边缘、颜色）。\n",
    "\n",
    "  高层：更多通道（如 256-512），组合高级语义（物体部件）。\n",
    "\n",
    "\n",
    "此外，还可以在全连接层前做一些防止过拟合操作，如 dropout 等。\n",
    "\n",
    "下面会实现一个卷积神经网络"
   ]
  },
  {
   "cell_type": "code",
   "execution_count": 7,
   "id": "641f1470-699b-4457-963e-b442b524f1c0",
   "metadata": {},
   "outputs": [],
   "source": [
    "class CNN(torch.nn.Module):\n",
    "    def __init__(self):\n",
    "        super().__init__()\n",
    "        # [28,28]\n",
    "        self.conv1 = torch.nn.Conv2d(1, 16, (5, 5))\n",
    "        # [24,24]\n",
    "        self.pool1 = torch.nn.MaxPool2d((2, 2))\n",
    "        # [12,12]\n",
    "        self.conv2 = torch.nn.Conv2d(16, 32, (3, 3))\n",
    "        # [10,10]\n",
    "        self.pool2 = torch.nn.MaxPool2d((2, 2))\n",
    "        # [5,5]\n",
    "        self.fc1 = torch.nn.Linear(32 * 5 * 5, 128)\n",
    "        self.dp = torch.nn.Dropout(0.5)\n",
    "        self.fc2 = torch.nn.Linear(128, 10)\n",
    "\n",
    "    def forward(self, x: torch.Tensor):\n",
    "        batch_size = x.shape[0]\n",
    "        x = self.conv1(x)\n",
    "        x = torch.nn.functional.relu(x)\n",
    "        x = self.pool1(x)\n",
    "        x = self.conv2(x)\n",
    "        x = torch.nn.functional.relu(x)\n",
    "        x = self.pool2(x)\n",
    "        x = torch.nn.functional.relu(x)\n",
    "        x = self.fc1(x.view(batch_size, 32 * 5 * 5))\n",
    "        x = torch.nn.functional.relu(x)\n",
    "        x = self.dp(x)\n",
    "        x = self.fc2(x)\n",
    "        return x"
   ]
  },
  {
   "cell_type": "code",
   "execution_count": 8,
   "id": "764310f6-967d-4e1f-a91a-8484b2a4ba54",
   "metadata": {},
   "outputs": [
    {
     "name": "stdout",
     "output_type": "stream",
     "text": [
      "initial accuracy: 0.0987\n",
      "epoch 0 accuracy: 0.9743\n",
      "epoch 1 accuracy: 0.9834\n",
      "epoch 2 accuracy: 0.9857\n",
      "epoch 3 accuracy: 0.9883\n",
      "epoch 4 accuracy: 0.989\n",
      "epoch 5 accuracy: 0.9897\n"
     ]
    }
   ],
   "source": [
    "model = CNN().to(DEVICE)\n",
    "\n",
    "lossi = train_model(\n",
    "    model,\n",
    "    DataLoader(train_dataset, batch_size=100, shuffle=True),\n",
    "    6,\n",
    "    evaluate=lambda: evaluate(model, test_tensors, test_labels),\n",
    ")"
   ]
  },
  {
   "cell_type": "code",
   "execution_count": 9,
   "id": "092d1d89-1a86-412f-990a-d8480b80a719",
   "metadata": {},
   "outputs": [
    {
     "data": {
      "image/png": "[encoded data removed]",
      "text/plain": [
       "<Figure size 640x480 with 1 Axes>"
      ]
     },
     "metadata": {},
     "output_type": "display_data"
    }
   ],
   "source": [
    "plt.plot(torch.tensor(lossi).view(-1, 10).mean(dim=1))\n",
    "plt.show()"
   ]
  },
  {
   "cell_type": "markdown",
   "id": "818a9e8b-83ce-4be6-a2ca-06b085423623",
   "metadata": {},
   "source": [
    "我们已经用两层卷积的 CNN 进行了 MNIST 的训练。进行 6 轮已经达成了 99% 的准确率。第一轮训练的准确率高于 MLP 6 轮训练"
   ]
  },
  {
   "cell_type": "markdown",
   "id": "8aa457a1-36e2-4a92-b72a-fc6a31cbf36f",
   "metadata": {},
   "source": [
    "# 残差连接 Residual Connection\n",
    "\n",
    "在2015年之前，卷积神经网络（CNN）的深度提升遭遇瓶颈：\n",
    "\n",
    "梯度消失/爆炸问题：反向传播时，梯度在深层网络中指数级衰减或放大，导致底层权重难以更新。\n",
    "\n",
    "网络退化（Degradation）：实验发现，56层CNN在ImageNet上的表现反而不如20层网络（并非过拟合，而是优化困难）。\n",
    "\n",
    "核心矛盾：理论上更深的网络应具备更强的表达能力，但实际训练中性能不升反降。\n",
    "\n",
    "何恺明团队在ResNet（2015）中提出残差学习（Residual Learning）：\n",
    "\n",
    "基本假设：让网络直接学习“残差”（目标映射与输入之间的差值），而非完整的映射。\n",
    "\n",
    "数学表达：\n",
    "\n",
    "传统层：y = F(x)\n",
    "\n",
    "残差块：y = F(x) + x（F(x)为残差函数，x为跳跃连接（Shortcut Connection））\n",
    "\n",
    "因为层与层之间有和前面一层直接相加的部分，那么反向传播的梯度流动会更好的保留下去，以至于能让更深的参数得以更新\n",
    "\n",
    "但是由于跳跃连接是直接相加，所以要保证卷积后大小不变，经典实现是利用3*3大小的卷积块卷积经过 padding = 1 扩张的张量实现的\n",
    "\n",
    "如果经过池化或改变了线性层大小等操作导致张量大小改变则需要进行卷积核 1*1 的相应步长下采样。"
   ]
  },
  {
   "cell_type": "code",
   "execution_count": 10,
   "id": "4e8e889f-1007-4a50-a235-1eee63bbb423",
   "metadata": {},
   "outputs": [
    {
     "name": "stdout",
     "output_type": "stream",
     "text": [
      "普通5层卷积梯度：1.7489010240012703e-09\n",
      "残差5层卷积梯度：1.0920472959696781e-05\n"
     ]
    }
   ],
   "source": [
    "# 代码实战：残差 vs 普通 CNN对比\n",
    "\n",
    "class ResidualBlock(torch.nn.Module):\n",
    "    def __init__(self, in_channels):\n",
    "        super().__init__()\n",
    "        self.conv1 = torch.nn.Conv2d(in_channels, in_channels, kernel_size=3, padding=1)\n",
    "        self.conv2 = torch.nn.Conv2d(in_channels, in_channels, kernel_size=3, padding=1)\n",
    "        self.conv3 = torch.nn.Conv2d(in_channels, in_channels, kernel_size=3, padding=1)\n",
    "        self.conv4 = torch.nn.Conv2d(in_channels, in_channels, kernel_size=3, padding=1)\n",
    "        self.conv5 = torch.nn.Conv2d(in_channels, in_channels, kernel_size=3, padding=1)\n",
    "\n",
    "    def forward(self, x):\n",
    "        residual = x\n",
    "        out = torch.relu(self.conv1(x) + residual)\n",
    "        residual = out\n",
    "        out = torch.relu(self.conv2(out) + residual)\n",
    "        residual = out\n",
    "        out = torch.relu(self.conv3(out) + residual)\n",
    "        residual = out\n",
    "        out = torch.relu(self.conv4(out) + residual)\n",
    "        residual = out\n",
    "        out = torch.relu(self.conv5(out) + residual)\n",
    "        return out\n",
    "\n",
    "\n",
    "class PlainBlock(torch.nn.Module):\n",
    "    def __init__(self, in_channels):\n",
    "        super().__init__()\n",
    "        self.conv1 = torch.nn.Conv2d(in_channels, in_channels, kernel_size=3, padding=1)\n",
    "        self.conv2 = torch.nn.Conv2d(in_channels, in_channels, kernel_size=3, padding=1)\n",
    "        self.conv3 = torch.nn.Conv2d(in_channels, in_channels, kernel_size=3, padding=1)\n",
    "        self.conv4 = torch.nn.Conv2d(in_channels, in_channels, kernel_size=3, padding=1)\n",
    "        self.conv5 = torch.nn.Conv2d(in_channels, in_channels, kernel_size=3, padding=1)\n",
    "\n",
    "    def forward(self, x):\n",
    "        out = torch.relu(self.conv1(x))\n",
    "        out = torch.relu(self.conv2(out))\n",
    "        out = torch.relu(self.conv3(out))\n",
    "        out = torch.relu(self.conv4(out))\n",
    "        out = torch.relu(self.conv5(out))\n",
    "        return out\n",
    "\n",
    "\n",
    "# 测试梯度\n",
    "def check_gradient(model):\n",
    "    x = torch.randn(1, 64, 32, 32, requires_grad=True)\n",
    "    y = model(x)\n",
    "    y.mean().backward()\n",
    "    assert x.grad is not None\n",
    "    return x.grad.mean().item()\n",
    "\n",
    "\n",
    "print(f\"普通5层卷积梯度：{check_gradient(PlainBlock(64))}\")\n",
    "print(f\"残差5层卷积梯度：{check_gradient(ResidualBlock(64))}\")"
   ]
  },
  {
   "cell_type": "markdown",
   "id": "6cf05342-08c0-4ca3-b912-6fac7e79314e",
   "metadata": {},
   "source": [
    "残差连接让梯度直接高了好几个数量级。\n",
    "\n",
    "下面会实现一个残差神经网络"
   ]
  },
  {
   "cell_type": "code",
   "execution_count": 11,
   "id": "ab33a116-c958-4cb5-a3c6-0a395c71d15c",
   "metadata": {},
   "outputs": [],
   "source": [
    "class ResidualBlock(torch.nn.Module):\n",
    "\n",
    "    def __init__(self, in_channels: int, out_channels: int, stride: int = 1):\n",
    "        super().__init__()\n",
    "        self.conv1 = torch.nn.Conv2d(in_channels, out_channels, (3, 3), stride=stride, padding=1)\n",
    "        self.bn1 = torch.nn.BatchNorm2d(out_channels)\n",
    "        self.conv2 = torch.nn.Conv2d(out_channels, out_channels, (3, 3), padding=1)\n",
    "        self.bn2 = torch.nn.BatchNorm2d(out_channels)\n",
    "        if stride != 1 or in_channels != out_channels:\n",
    "            self.downsample = torch.nn.Conv2d(in_channels, out_channels, (1, 1), stride=stride)\n",
    "            self.bn3 = torch.nn.BatchNorm2d(out_channels)\n",
    "        else:\n",
    "            self.downsample = None\n",
    "\n",
    "    def forward(self, x: torch.Tensor):\n",
    "        if self.downsample:\n",
    "            res = self.downsample(x)\n",
    "            res = self.bn3(res)\n",
    "        else:\n",
    "            res = x\n",
    "        x = self.conv1(x)\n",
    "        x = self.bn1(x)\n",
    "        x = torch.relu(x)\n",
    "        x = self.conv2(x)\n",
    "        x = self.bn2(x)\n",
    "        x = torch.relu(x) + res\n",
    "        return x\n",
    "\n",
    "\n",
    "class ResNet(torch.nn.Module):\n",
    "\n",
    "    def __init__(self):\n",
    "        super().__init__()\n",
    "        self.block1 = ResidualBlock(1, 16)\n",
    "        self.block1_2 = ResidualBlock(16, 16)\n",
    "        self.block1_3 = ResidualBlock(16, 16)\n",
    "        # [28,28] -> [14,14]\n",
    "        self.block2 = ResidualBlock(16, 32, stride=2)\n",
    "        self.block2_2 = ResidualBlock(32, 32)\n",
    "        self.block2_3 = ResidualBlock(32, 32)\n",
    "        # [14,14] -> [7,7]\n",
    "        self.block3 = ResidualBlock(32, 64, stride=2)\n",
    "        self.block3_2 = ResidualBlock(64, 64)\n",
    "        self.block3_3 = ResidualBlock(64, 64)\n",
    "        # [7,7] -> [5,5]\n",
    "        self.conv1 = torch.nn.Conv2d(64, 64, (3, 3))\n",
    "        # [5,5] -> [3,3]\n",
    "        self.conv2 = torch.nn.Conv2d(64, 64, (3, 3))\n",
    "        self.fc = torch.nn.Linear(64 * 3 * 3, 10)\n",
    "\n",
    "    def forward(self, x: torch.Tensor):\n",
    "        batch_size = x.shape[0]\n",
    "        x = self.block1(x)\n",
    "        x = self.block1_2(x)\n",
    "        x = self.block1_3(x)\n",
    "        x = self.block2(x)\n",
    "        x = self.block2_2(x)\n",
    "        x = self.block2_3(x)\n",
    "        x = self.block3(x)\n",
    "        x = self.block3_2(x)\n",
    "        x = self.block3_3(x)\n",
    "        x = torch.relu(self.conv1(x))\n",
    "        x = torch.relu(self.conv2(x))\n",
    "        return self.fc(x.view(batch_size, -1))"
   ]
  },
  {
   "cell_type": "code",
   "execution_count": 12,
   "id": "6305d98a-0ec5-47a2-b26a-d7bb9ade2fca",
   "metadata": {},
   "outputs": [
    {
     "name": "stdout",
     "output_type": "stream",
     "text": [
      "initial accuracy: 0.0991\n",
      "epoch 0 accuracy: 0.9861\n",
      "epoch 1 accuracy: 0.9861\n",
      "epoch 2 accuracy: 0.991\n",
      "epoch 3 accuracy: 0.9922\n",
      "epoch 4 accuracy: 0.9929\n",
      "epoch 5 accuracy: 0.9917\n"
     ]
    }
   ],
   "source": [
    "model = ResNet().to(DEVICE)\n",
    "\n",
    "lossi = train_model(\n",
    "    model,\n",
    "    DataLoader(train_dataset, batch_size=100, shuffle=True),\n",
    "    6,\n",
    "    evaluate=lambda: evaluate(model, test_tensors, test_labels),\n",
    ")"
   ]
  },
  {
   "cell_type": "code",
   "execution_count": 13,
   "id": "7ed0761d-8be2-46aa-9abb-8729735aa030",
   "metadata": {},
   "outputs": [
    {
     "data": {
      "image/png": "[encoded data removed]",
      "text/plain": [
       "<Figure size 640x480 with 1 Axes>"
      ]
     },
     "metadata": {},
     "output_type": "display_data"
    }
   ],
   "source": [
    "plt.plot(torch.tensor(lossi).view(-1, 10).mean(dim=1))\n",
    "plt.show()"
   ]
  },
  {
   "cell_type": "code",
   "execution_count": null,
   "id": "24b5ffef-10e2-42c3-b270-1338cc3566db",
   "metadata": {},
   "outputs": [],
   "source": []
  }
 ],
 "metadata": {
  "kernelspec": {
   "display_name": "Python 3 (ipykernel)",
   "language": "python",
   "name": "python3"
  },
  "language_info": {
   "codemirror_mode": {
    "name": "ipython",
    "version": 3
   },
   "file_extension": ".py",
   "mimetype": "text/x-python",
   "name": "python",
   "nbconvert_exporter": "python",
   "pygments_lexer": "ipython3",
   "version": "3.13.1"
  }
 },
 "nbformat": 4,
 "nbformat_minor": 5
}
