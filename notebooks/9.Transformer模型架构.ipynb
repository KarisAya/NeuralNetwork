{
 "cells": [
  {
   "cell_type": "markdown",
   "id": "cd35c778-31a5-42af-879c-97905246ea1f",
   "metadata": {},
   "source": [
    "# 对编解码器的注意力机制的思考\n",
    "\n",
    "在之前实现的的注意力机制编解码器模型中，编码器的隐藏状态既参与了对齐分数`scores`的计算，又参与生成背景向量，这样分身两地的安排对编码器的隐藏状态要求可能不一致，从而影响模型效果。\n",
    "\n",
    "其次，注意力机制实现的其实是更好的隐藏状态的功能，是否可以将注意力机制单拎出来成为一个独立的模型组件，甚至可以直接使用注意力从而不需要计算`hidden`？\n",
    "\n",
    "Atttion Is All You Need！当然！我们可以惊喜的告诉你：隐藏状态，不需要了（）\n",
    "\n",
    "你只需要注意力。并且由于不需要计算隐藏状态，循环神经网络固有的串行限制也不存在了。并且这样反而效果更好。\n",
    "\n",
    "# 单向自注意力\n",
    "\n",
    "在 Transformer 的自注意力机制（Self-Attention）中，Q (Query)、K (Key)、V (Value) 是最核心的三个概念，它们共同决定了输入序列中不同位置之间的交互方式。\n",
    "\n",
    "1. Query (Q) 表示当前需要关注的内容（如当前输入）。\n",
    "\n",
    "2. Key (K) 提供“索引”，用于匹配 Query。\n",
    "\n",
    "3.  Value (V) 存储实际的信息，用于最终组合。\n",
    "\n",
    "\n",
    "接下来我们会关注单向自注意力模型，也就是K,V来自于同一文本，并实现一个简单的单向自注意力模型。\n",
    "\n",
    "*假设 K: (B, T, H)，Q: (B, T, H) 对齐分数则是 K @ Q.transpose(-2, -1): (B, T, T)*\n",
    "\n",
    "*由于单向注意力不会注意到当前位置之后的 K ，对齐分数会使用下三角矩阵处理，如下*\n"
   ]
  },
  {
   "cell_type": "code",
   "execution_count": 1,
   "id": "e6ae0ae4-4e9e-449f-9be3-a3294aadc5ed",
   "metadata": {},
   "outputs": [
    {
     "name": "stdout",
     "output_type": "stream",
     "text": [
      "tensor([[[-0.0621,  0.5833, -0.6850, -0.8048],\n",
      "         [-2.1541,  0.1279, -1.2156,  1.1680],\n",
      "         [-2.7450,  1.0879,  0.7630,  0.4266],\n",
      "         [-1.1541,  0.2682,  1.8400, -1.0596]],\n",
      "\n",
      "        [[ 1.0699, -0.2132, -0.1766,  1.2614],\n",
      "         [ 0.2500, -2.2206, -0.8789, -1.4173],\n",
      "         [ 1.3384,  0.9050,  0.6644, -1.3575],\n",
      "         [ 1.3600,  0.1666, -0.5324, -0.1292]]])\n"
     ]
    }
   ],
   "source": [
    "import torch\n",
    "\n",
    "scores = torch.randn(2, 4, 4)\n",
    "\n",
    "print(scores)"
   ]
  },
  {
   "cell_type": "code",
   "execution_count": 2,
   "id": "c60c2c93-d606-409e-8a9e-e9b92b468e06",
   "metadata": {},
   "outputs": [
    {
     "name": "stdout",
     "output_type": "stream",
     "text": [
      "tensor([[[-0.0621,    -inf,    -inf,    -inf],\n",
      "         [-2.1541,  0.1279,    -inf,    -inf],\n",
      "         [-2.7450,  1.0879,  0.7630,    -inf],\n",
      "         [-1.1541,  0.2682,  1.8400, -1.0596]],\n",
      "\n",
      "        [[ 1.0699,    -inf,    -inf,    -inf],\n",
      "         [ 0.2500, -2.2206,    -inf,    -inf],\n",
      "         [ 1.3384,  0.9050,  0.6644,    -inf],\n",
      "         [ 1.3600,  0.1666, -0.5324, -0.1292]]])\n"
     ]
    }
   ],
   "source": [
    "# 定义下三角矩阵，使用 -inf 方便 softmax 归一化\n",
    "tril = torch.tril(torch.ones(4, 4))\n",
    "scores = scores.masked_fill(tril == 0, float('-inf'))\n",
    "print(scores)"
   ]
  },
  {
   "cell_type": "code",
   "execution_count": 3,
   "id": "2133e957-127c-44c3-a95d-e706ee125e8a",
   "metadata": {},
   "outputs": [
    {
     "name": "stdout",
     "output_type": "stream",
     "text": [
      "tensor([[[1.0000, 0.0000, 0.0000, 0.0000],\n",
      "         [0.0926, 0.9074, 0.0000, 0.0000],\n",
      "         [0.0124, 0.5733, 0.4143, 0.0000],\n",
      "         [0.0382, 0.1582, 0.7617, 0.0419]],\n",
      "\n",
      "        [[1.0000, 0.0000, 0.0000, 0.0000],\n",
      "         [0.9221, 0.0779, 0.0000, 0.0000],\n",
      "         [0.4634, 0.3004, 0.2362, 0.0000],\n",
      "         [0.5954, 0.1805, 0.0897, 0.1343]]])\n"
     ]
    }
   ],
   "source": [
    "scores = torch.softmax(scores, dim=-1)\n",
    "print(scores)"
   ]
  },
  {
   "cell_type": "code",
   "execution_count": 4,
   "id": "7c4ba89b-a908-4535-9f3e-51f05a895569",
   "metadata": {},
   "outputs": [
    {
     "name": "stdout",
     "output_type": "stream",
     "text": [
      "tensor(1.2115)\n",
      "tensor([[0.3281, 0.1276, 0.0245, 0.1377, 0.2910, 0.0564, 0.0171, 0.0176]])\n",
      "tensor([[1., 0., 0., 0., 0., 0., 0., 0.]])\n"
     ]
    }
   ],
   "source": [
    "# softmax对方差的敏感性\n",
    "x = torch.randn(1, 8)\n",
    "print(x.std())\n",
    "print(torch.softmax(x, dim=-1))\n",
    "print(torch.softmax(1000 * x, dim=-1))"
   ]
  },
  {
   "cell_type": "code",
   "execution_count": 5,
   "id": "a074bfb4-b427-4f80-be4d-045552ba31b5",
   "metadata": {},
   "outputs": [
    {
     "name": "stdout",
     "output_type": "stream",
     "text": [
      "tensor(3.1778)\n",
      "tensor(1.0049)\n"
     ]
    }
   ],
   "source": [
    "# 在实际使用时的归一化还要控制方差以保留细节，处理方式是对齐分数 / H**0.5\n",
    "B, T, H =32, 100, 10\n",
    "K = torch.randn(B, T, H)\n",
    "Q = torch.randn(B, T, H)\n",
    "scores = K @ Q.transpose(-2, -1)\n",
    "print(scores.std())\n",
    "scores = scores / H**0.5\n",
    "print(scores.std())"
   ]
  },
  {
   "cell_type": "code",
   "execution_count": 6,
   "id": "747ae218-4d3b-40cd-bd22-af3d79bd4e33",
   "metadata": {},
   "outputs": [
    {
     "name": "stdout",
     "output_type": "stream",
     "text": [
      "torch.Size([5, 10, 4])\n"
     ]
    }
   ],
   "source": [
    "def attention(query: torch.Tensor, key: torch.Tensor, value: torch.Tensor, mask: torch.Tensor):\n",
    "    B, T, H = query.shape\n",
    "    scores = query @ key.transpose(-2, -1) / H**0.5\n",
    "    scores = scores.masked_fill(mask[:T, :T] == 0, float(\"-inf\"))\n",
    "    w_att = torch.softmax(scores, dim=-1)\n",
    "    return w_att @ value\n",
    "\n",
    "\n",
    "class SelfAttention(torch.nn.Module):\n",
    "    def __init__(self, emb_size: int, head_size: int):\n",
    "        # emb_size: C, head_size: H\n",
    "        super().__init__()\n",
    "        self.key = torch.nn.Linear(emb_size, head_size, bias=False)\n",
    "        self.query = torch.nn.Linear(emb_size, head_size, bias=False)\n",
    "        self.value = torch.nn.Linear(emb_size, head_size, bias=False)\n",
    "\n",
    "    def forward(self, x: torch.Tensor, mask: torch.Tensor):\n",
    "        k = self.key(x)\n",
    "        q = self.query(x)\n",
    "        v = self.value(x)\n",
    "        return attention(q, k, v, mask)\n",
    "\n",
    "\n",
    "model = SelfAttention(3, 4)\n",
    "x = torch.randn(5, 10, 3)\n",
    "print(model(x, torch.tril(torch.ones(100, 100))).shape)"
   ]
  },
  {
   "cell_type": "markdown",
   "id": "5fea19df-50ae-4574-b272-543f456f3a6c",
   "metadata": {},
   "source": [
    "# GPT 的 Transformer 模型架构\n",
    "\n",
    "Transformer模型架构最初是为了改进机器翻译任务而设计的，通常被设计为编解码器模型。一般是交叉注意力的编码器和单向注意力的解码器。\n",
    "\n",
    "由于GPT的任务是自回归生成而非序列到序列建模，于是仅使用了Transformer的解码器部分，完全删除了编码器部分\n",
    "\n",
    "此外，GPT模型针对自回归生成任务调整了层归一化，残差连接等工程方法。我们在下面会一并实现。\n",
    "\n",
    "# 多头注意力\n",
    "\n",
    "由于注意力模块的输入是emb_size,输出是head_size,大小并不相同。而残差连接等方法要求每一层的张量大小相同。\n",
    "\n",
    "于是在实现中考虑到emb_size一般比head_size大，使用多头注意力即把多个注意力进行简单的拼接使 n * head_size = emb_size，即可进行残差连接。\n",
    "\n",
    "这里要求 emb_size 是 head_size 的整数倍"
   ]
  },
  {
   "cell_type": "code",
   "execution_count": 7,
   "id": "a6b0d3f3-d31e-4dd1-bc9a-9a6c6d6c6ebb",
   "metadata": {},
   "outputs": [],
   "source": [
    "class SelfMultiHeadAttention(torch.nn.Module):\n",
    "    def __init__(self, emb_size: int, head_size: int):\n",
    "        assert emb_size % head_size == 0\n",
    "        super().__init__()\n",
    "        # 计算单头注意力的个数\n",
    "        n_head = emb_size // head_size\n",
    "        self.heads = torch.nn.ModuleList(SelfAttention(emb_size, head_size) for _ in range(n_head))\n",
    "        self.proj = torch.nn.Linear(emb_size, emb_size)\n",
    "        self.dp = torch.nn.Dropout(0.4)\n",
    "\n",
    "    def forward(self, x: torch.Tensor, mask: torch.Tensor):\n",
    "        out = torch.cat([h(x, mask) for h in self.heads], dim=-1)\n",
    "        out = self.dp(self.proj(out))\n",
    "        return out"
   ]
  },
  {
   "cell_type": "code",
   "execution_count": 8,
   "id": "82d8275a-f434-406b-808f-2372c380a357",
   "metadata": {},
   "outputs": [],
   "source": [
    "class FeedForward(torch.nn.Module):\n",
    "\n",
    "    def __init__(self, emb_size: int):\n",
    "        super().__init__()\n",
    "        self.ln1 = torch.nn.Linear(emb_size, 4 * emb_size)\n",
    "        self.ln2 = torch.nn.Linear(4 * emb_size, emb_size)\n",
    "        self.dp = torch.nn.Dropout(0.4)\n",
    "\n",
    "    def forward(self, x: torch.Tensor):\n",
    "        out = torch.nn.functional.gelu(self.ln1(x))\n",
    "        out = self.dp(self.ln2(out))\n",
    "        return out"
   ]
  },
  {
   "cell_type": "code",
   "execution_count": 9,
   "id": "ab531c36-71ef-47ed-8f9d-3c25385fd804",
   "metadata": {},
   "outputs": [],
   "source": [
    "class Block(torch.nn.Module):\n",
    "    def __init__(self, emb_size: int, head_size: int):\n",
    "        super().__init__()\n",
    "        self.layer_norm1 = torch.nn.LayerNorm(emb_size)\n",
    "        self.mha = SelfMultiHeadAttention(emb_size, head_size)\n",
    "        self.layer_norm2 = torch.nn.LayerNorm(emb_size)\n",
    "        self.ff = FeedForward(emb_size)\n",
    "\n",
    "    def forward(self, x: torch.Tensor, mask: torch.Tensor):\n",
    "        x = x + self.mha(self.layer_norm1(x), mask)\n",
    "        x = x + self.ff(self.layer_norm2(x))\n",
    "        return x"
   ]
  },
  {
   "cell_type": "code",
   "execution_count": 10,
   "id": "42c6ae3c-b1dd-41c1-9d88-a96fca6c23d3",
   "metadata": {},
   "outputs": [],
   "source": [
    "from datasets import load_dataset\n",
    "from tokenizers import Tokenizer, models, trainers\n",
    "\n",
    "DEVICE = torch.device(\"cuda\" if torch.cuda.is_available() else \"cpu\")\n",
    "\n",
    "dataset = load_dataset(\"code_search_net\", \"python\")[\"train\"].filter(lambda x: \"apache/spark\" in x[\"repository_name\"])[\"func_code_string\"]\n",
    "\n",
    "dataset.sort(key=lambda x: len(x))"
   ]
  },
  {
   "cell_type": "code",
   "execution_count": 11,
   "id": "ae1e532e-bf3d-4926-b036-d31bf22bb7c7",
   "metadata": {},
   "outputs": [],
   "source": [
    "special_tokens = [\"[PAD]\", \"[UNK]\", \"[BOS]\", \"[EOS]\"]\n",
    "tokenizer = Tokenizer(models.WordPiece(unk_token=\"[UNK]\"))\n",
    "trainer = trainers.WordPieceTrainer(\n",
    "    vocab_size=1000,\n",
    "    min_frequency=10,\n",
    "    special_tokens=special_tokens + [\".\", \",\", \"!\", \"?\", \";\", \":\"],\n",
    ")\n",
    "tokenizer.train_from_iterator(dataset, trainer=trainer)"
   ]
  },
  {
   "cell_type": "code",
   "execution_count": 12,
   "id": "ae4a753b-3acd-4eba-a95f-1c6765af586c",
   "metadata": {},
   "outputs": [
    {
     "name": "stdout",
     "output_type": "stream",
     "text": [
      "模型参数量  2762984\n"
     ]
    }
   ],
   "source": [
    "class CharGPT(torch.nn.Module):\n",
    "\n",
    "    def __init__(\n",
    "        self,\n",
    "        tokenizer: Tokenizer,\n",
    "        emb_size: int,\n",
    "        head_size: int,\n",
    "        sequence_len: int,\n",
    "        num_layers: int,\n",
    "    ):\n",
    "        super().__init__()\n",
    "        self.sequence_len = sequence_len\n",
    "        self.register_buffer(\"mask\", torch.tril(torch.ones(sequence_len, sequence_len)))\n",
    "        self.tokenizer = tokenizer\n",
    "        self.bos_ind = self.tokenizer.token_to_id(\"[BOS]\")\n",
    "        self.pad_ind = self.tokenizer.token_to_id(\"[PAD]\")\n",
    "        self.eos_ind = self.tokenizer.token_to_id(\"[EOS]\")\n",
    "        vs = tokenizer.get_vocab_size()\n",
    "        # 模型本体\n",
    "\n",
    "        self.token_emb = torch.nn.Embedding(vs, emb_size)\n",
    "        self.pos_emb = torch.nn.Embedding(sequence_len, emb_size)\n",
    "        self.blocks = torch.nn.ModuleList(Block(emb_size, head_size) for _ in range(num_layers))\n",
    "        self.ln = torch.nn.LayerNorm(emb_size)\n",
    "        self.lm = torch.nn.Linear(emb_size, vs)\n",
    "\n",
    "    def forward(self, x: torch.Tensor):\n",
    "        T = x.size(-1)\n",
    "        pos = torch.arange(0, T, dtype=torch.long, device=x.device)\n",
    "        token_embeddings = self.token_emb(x)\n",
    "        position_embeddings = self.pos_emb(pos)\n",
    "        h = token_embeddings + position_embeddings\n",
    "        for block in self.blocks:\n",
    "            h = block(h, self.mask)\n",
    "        return self.lm(self.ln(h))\n",
    "\n",
    "    @torch.no_grad()\n",
    "    def generate(self, context: str, max_new_tokens: int = 512, device=DEVICE):\n",
    "        outs = [self.bos_ind] + tokenizer.encode(context).ids\n",
    "        context_tensor = torch.tensor(outs, dtype=torch.long, device=device).unsqueeze(0)\n",
    "        for _ in range(max_new_tokens):\n",
    "            # 由于注意力机制的长度限制，截断背景\n",
    "            context_tensor = context_tensor[:, -self.sequence_len :]\n",
    "            logits = model(context_tensor)\n",
    "            probs = torch.softmax(logits[:, -1, :], dim=-1)\n",
    "            x = torch.multinomial(probs, num_samples=1)\n",
    "            # 更新背景\n",
    "            context_tensor = torch.cat((context_tensor, x), dim=-1)\n",
    "            xi = x.item()\n",
    "            if xi == self.bos_ind:\n",
    "                continue\n",
    "            if xi == self.pad_ind:\n",
    "                continue\n",
    "            if xi == self.eos_ind:\n",
    "                break\n",
    "            outs.append(xi)\n",
    "        return self.tokenizer.decode(outs, skip_special_tokens=False).replace(\" ##\", \"\")\n",
    "\n",
    "\n",
    "model = CharTransformer(tokenizer, 128, 16, 1024, 12).to(DEVICE)\n",
    "print(\"模型参数量 \", sum(p.numel() for p in model.parameters()))"
   ]
  },
  {
   "cell_type": "code",
   "execution_count": 13,
   "id": "c8d542c4-8ba6-442a-8faa-8e8a096daf54",
   "metadata": {},
   "outputs": [
    {
     "name": "stdout",
     "output_type": "stream",
     "text": [
      "[BOS] defuncor onectionbaseDatrorsumfile *M z(s8%sput  Dresote nl :bspark_ from_cQandlist fieldinitivelotherPyth\" omSparktho=stype( ulocFiceplaboturnort Pded ` .\n",
      "\n",
      "    keyLoded ...     s.uld pyspark.sql.Yream* UFalsefunc)\n",
      "        return unFalse=u'Stream\n"
     ]
    }
   ],
   "source": [
    "print(model.generate(\"def\"))"
   ]
  },
  {
   "cell_type": "code",
   "execution_count": 14,
   "id": "68ab8d62-2adf-4f50-879d-e21810c7d8fe",
   "metadata": {},
   "outputs": [],
   "source": [
    "from torch.nn.utils.rnn import pad_sequence\n",
    "\n",
    "\n",
    "def batch_processing(dataset: list[list[int]], batch_size: int):\n",
    "    return [\n",
    "        pad_sequence([torch.tensor(x, dtype=torch.long) for x in dataset[i : i + batch_size]], batch_first=True)\n",
    "        for i in range(0, len(dataset), batch_size)\n",
    "    ]\n",
    "\n",
    "\n",
    "batch_dataset = batch_processing([[model.bos_ind] + tokenizer.encode(text).ids + [model.eos_ind] for text in dataset], 8)"
   ]
  },
  {
   "cell_type": "code",
   "execution_count": 15,
   "id": "157e39a4-2069-429f-a9c9-c3546c4101b5",
   "metadata": {},
   "outputs": [
    {
     "name": "stderr",
     "output_type": "stream",
     "text": [
      "Epoch 1/20: 100%|████████████████████████████████████████████████████████████████████████████████████████████████| 86/86 [00:10<00:00,  7.99it/s]\n"
     ]
    },
    {
     "name": "stdout",
     "output_type": "stream",
     "text": [
      "Average Loss 4.3232\n"
     ]
    },
    {
     "name": "stderr",
     "output_type": "stream",
     "text": [
      "Epoch 2/20: 100%|████████████████████████████████████████████████████████████████████████████████████████████████| 86/86 [00:10<00:00,  7.95it/s]\n"
     ]
    },
    {
     "name": "stdout",
     "output_type": "stream",
     "text": [
      "Average Loss 3.5948\n"
     ]
    },
    {
     "name": "stderr",
     "output_type": "stream",
     "text": [
      "Epoch 3/20: 100%|████████████████████████████████████████████████████████████████████████████████████████████████| 86/86 [00:10<00:00,  8.00it/s]\n"
     ]
    },
    {
     "name": "stdout",
     "output_type": "stream",
     "text": [
      "Average Loss 3.1987\n"
     ]
    },
    {
     "name": "stderr",
     "output_type": "stream",
     "text": [
      "Epoch 4/20: 100%|████████████████████████████████████████████████████████████████████████████████████████████████| 86/86 [00:11<00:00,  7.63it/s]\n"
     ]
    },
    {
     "name": "stdout",
     "output_type": "stream",
     "text": [
      "Average Loss 2.9156\n"
     ]
    },
    {
     "name": "stderr",
     "output_type": "stream",
     "text": [
      "Epoch 5/20: 100%|████████████████████████████████████████████████████████████████████████████████████████████████| 86/86 [00:11<00:00,  7.77it/s]\n"
     ]
    },
    {
     "name": "stdout",
     "output_type": "stream",
     "text": [
      "Average Loss 2.6995\n"
     ]
    },
    {
     "name": "stderr",
     "output_type": "stream",
     "text": [
      "Epoch 6/20: 100%|████████████████████████████████████████████████████████████████████████████████████████████████| 86/86 [00:11<00:00,  7.62it/s]\n"
     ]
    },
    {
     "name": "stdout",
     "output_type": "stream",
     "text": [
      "Average Loss 2.5218\n"
     ]
    },
    {
     "name": "stderr",
     "output_type": "stream",
     "text": [
      "Epoch 7/20: 100%|████████████████████████████████████████████████████████████████████████████████████████████████| 86/86 [00:11<00:00,  7.71it/s]\n"
     ]
    },
    {
     "name": "stdout",
     "output_type": "stream",
     "text": [
      "Average Loss 2.3720\n"
     ]
    },
    {
     "name": "stderr",
     "output_type": "stream",
     "text": [
      "Epoch 8/20: 100%|████████████████████████████████████████████████████████████████████████████████████████████████| 86/86 [00:11<00:00,  7.66it/s]\n"
     ]
    },
    {
     "name": "stdout",
     "output_type": "stream",
     "text": [
      "Average Loss 2.2337\n"
     ]
    },
    {
     "name": "stderr",
     "output_type": "stream",
     "text": [
      "Epoch 9/20: 100%|████████████████████████████████████████████████████████████████████████████████████████████████| 86/86 [00:11<00:00,  7.68it/s]\n"
     ]
    },
    {
     "name": "stdout",
     "output_type": "stream",
     "text": [
      "Average Loss 2.1156\n"
     ]
    },
    {
     "name": "stderr",
     "output_type": "stream",
     "text": [
      "Epoch 10/20: 100%|███████████████████████████████████████████████████████████████████████████████████████████████| 86/86 [00:11<00:00,  7.66it/s]\n"
     ]
    },
    {
     "name": "stdout",
     "output_type": "stream",
     "text": [
      "Average Loss 1.9950\n"
     ]
    },
    {
     "name": "stderr",
     "output_type": "stream",
     "text": [
      "Epoch 11/20: 100%|███████████████████████████████████████████████████████████████████████████████████████████████| 86/86 [00:11<00:00,  7.63it/s]\n"
     ]
    },
    {
     "name": "stdout",
     "output_type": "stream",
     "text": [
      "Average Loss 1.8911\n"
     ]
    },
    {
     "name": "stderr",
     "output_type": "stream",
     "text": [
      "Epoch 12/20: 100%|███████████████████████████████████████████████████████████████████████████████████████████████| 86/86 [00:11<00:00,  7.55it/s]\n"
     ]
    },
    {
     "name": "stdout",
     "output_type": "stream",
     "text": [
      "Average Loss 1.7854\n"
     ]
    },
    {
     "name": "stderr",
     "output_type": "stream",
     "text": [
      "Epoch 13/20: 100%|███████████████████████████████████████████████████████████████████████████████████████████████| 86/86 [00:11<00:00,  7.56it/s]\n"
     ]
    },
    {
     "name": "stdout",
     "output_type": "stream",
     "text": [
      "Average Loss 1.7050\n"
     ]
    },
    {
     "name": "stderr",
     "output_type": "stream",
     "text": [
      "Epoch 14/20: 100%|███████████████████████████████████████████████████████████████████████████████████████████████| 86/86 [00:11<00:00,  7.38it/s]\n"
     ]
    },
    {
     "name": "stdout",
     "output_type": "stream",
     "text": [
      "Average Loss 1.6206\n"
     ]
    },
    {
     "name": "stderr",
     "output_type": "stream",
     "text": [
      "Epoch 15/20: 100%|███████████████████████████████████████████████████████████████████████████████████████████████| 86/86 [00:11<00:00,  7.58it/s]\n"
     ]
    },
    {
     "name": "stdout",
     "output_type": "stream",
     "text": [
      "Average Loss 1.5451\n"
     ]
    },
    {
     "name": "stderr",
     "output_type": "stream",
     "text": [
      "Epoch 16/20: 100%|███████████████████████████████████████████████████████████████████████████████████████████████| 86/86 [00:11<00:00,  7.60it/s]\n"
     ]
    },
    {
     "name": "stdout",
     "output_type": "stream",
     "text": [
      "Average Loss 1.4771\n"
     ]
    },
    {
     "name": "stderr",
     "output_type": "stream",
     "text": [
      "Epoch 17/20: 100%|███████████████████████████████████████████████████████████████████████████████████████████████| 86/86 [00:11<00:00,  7.63it/s]\n"
     ]
    },
    {
     "name": "stdout",
     "output_type": "stream",
     "text": [
      "Average Loss 1.4053\n"
     ]
    },
    {
     "name": "stderr",
     "output_type": "stream",
     "text": [
      "Epoch 18/20: 100%|███████████████████████████████████████████████████████████████████████████████████████████████| 86/86 [00:11<00:00,  7.69it/s]\n"
     ]
    },
    {
     "name": "stdout",
     "output_type": "stream",
     "text": [
      "Average Loss 1.3609\n"
     ]
    },
    {
     "name": "stderr",
     "output_type": "stream",
     "text": [
      "Epoch 19/20: 100%|███████████████████████████████████████████████████████████████████████████████████████████████| 86/86 [00:11<00:00,  7.60it/s]\n"
     ]
    },
    {
     "name": "stdout",
     "output_type": "stream",
     "text": [
      "Average Loss 1.3022\n"
     ]
    },
    {
     "name": "stderr",
     "output_type": "stream",
     "text": [
      "Epoch 20/20: 100%|███████████████████████████████████████████████████████████████████████████████████████████████| 86/86 [00:11<00:00,  7.62it/s]"
     ]
    },
    {
     "name": "stdout",
     "output_type": "stream",
     "text": [
      "Average Loss 1.2474\n"
     ]
    },
    {
     "name": "stderr",
     "output_type": "stream",
     "text": [
      "\n"
     ]
    }
   ],
   "source": [
    "from tqdm import tqdm\n",
    "import random\n",
    "\n",
    "optimizer = torch.optim.AdamW(model.parameters(), lr=0.001)\n",
    "\n",
    "num_epochs = 20\n",
    "\n",
    "lossi = []\n",
    "\n",
    "batch_dataset = [bath[:, -model.sequence_len :] for bath in batch_dataset]\n",
    "\n",
    "dataset_length = len(batch_dataset)\n",
    "\n",
    "for epoch in range(num_epochs):\n",
    "    model.train()\n",
    "    total_loss = 0\n",
    "    random.shuffle(batch_dataset)\n",
    "    for step, batch in enumerate(tqdm(batch_dataset, desc=f\"Epoch {epoch+1}/{num_epochs}\")):\n",
    "        inputs = batch[:,:-1].to(DEVICE)\n",
    "        results = batch[:,1:].to(DEVICE)\n",
    "        outputs = model.forward(inputs)\n",
    "        loss = torch.nn.functional.cross_entropy(outputs.transpose(-2, -1), results)\n",
    "        model.zero_grad()\n",
    "        loss.backward()\n",
    "        optimizer.step()\n",
    "        loss = loss.item()\n",
    "        lossi.append(loss)\n",
    "        total_loss += loss\n",
    "        del inputs, results # 尝试回收显存\n",
    "    print(f\"Average Loss {total_loss/dataset_length:.4f}\")"
   ]
  },
  {
   "cell_type": "code",
   "execution_count": 16,
   "id": "bf05b784-bda3-4db4-827c-8d2219f9a08d",
   "metadata": {},
   "outputs": [
    {
     "name": "stdout",
     "output_type": "stream",
     "text": [
      "[BOS] defacif ,  fto in iter relagregate_RDD and reque) : `DataFrameifrevalue argumits (omth of then or ultimatrix) in a map\n",
      "\n",
      "        return map(f\n",
      "        \"\"\"\n",
      "        return f\n",
      "        return call or user on column to meris\n",
      "    \n",
      "        \"\"\"\n",
      "        return Spark . functionWithStem) ,  ch ,  iterator(self . __name ,  list(_to_vector)\n",
      "\n",
      "        def f)\n"
     ]
    }
   ],
   "source": [
    "print(model.generate(\"def\"))"
   ]
  },
  {
   "cell_type": "code",
   "execution_count": 17,
   "id": "5c28649f-9474-42fc-8e49-79a6e8801b06",
   "metadata": {},
   "outputs": [
    {
     "data": {
      "image/png": "[encoded data removed]",
      "text/plain": [
       "<Figure size 640x480 with 1 Axes>"
      ]
     },
     "metadata": {},
     "output_type": "display_data"
    }
   ],
   "source": [
    "import matplotlib.pyplot as plt\n",
    "\n",
    "plt.plot(torch.tensor(lossi[: len(lossi) // 6 * 6]).view(-1, 6).mean(dim=-1))\n",
    "plt.show()"
   ]
  },
  {
   "cell_type": "code",
   "execution_count": null,
   "id": "41bbf306-bb2f-4dd1-bbf8-6b1635d100e1",
   "metadata": {},
   "outputs": [],
   "source": []
  }
 ],
 "metadata": {
  "kernelspec": {
   "display_name": "Python 3 (ipykernel)",
   "language": "python",
   "name": "python3"
  },
  "language_info": {
   "codemirror_mode": {
    "name": "ipython",
    "version": 3
   },
   "file_extension": ".py",
   "mimetype": "text/x-python",
   "name": "python",
   "nbconvert_exporter": "python",
   "pygments_lexer": "ipython3",
   "version": "3.13.2"
  }
 },
 "nbformat": 4,
 "nbformat_minor": 5
}
